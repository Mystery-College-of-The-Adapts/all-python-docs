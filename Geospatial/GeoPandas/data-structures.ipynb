{
 "cells": [
  {
   "cell_type": "markdown",
   "metadata": {},
   "source": [
    "Last Updated: 7-25-2017"
   ]
  },
  {
   "cell_type": "markdown",
   "metadata": {
    "toc": "true"
   },
   "source": [
    "# Table of Contents\n",
    " <p><div class=\"lev1 toc-item\"><a href=\"#Data-Structures\" data-toc-modified-id=\"Data-Structures-1\"><span class=\"toc-item-num\">1&nbsp;&nbsp;</span>Data Structures</a></div><div class=\"lev2 toc-item\"><a href=\"#GeoSeries\" data-toc-modified-id=\"GeoSeries-11\"><span class=\"toc-item-num\">1.1&nbsp;&nbsp;</span>GeoSeries</a></div><div class=\"lev3 toc-item\"><a href=\"#Attributes\" data-toc-modified-id=\"Attributes-111\"><span class=\"toc-item-num\">1.1.1&nbsp;&nbsp;</span>Attributes</a></div><div class=\"lev3 toc-item\"><a href=\"#Basic-Methods\" data-toc-modified-id=\"Basic-Methods-112\"><span class=\"toc-item-num\">1.1.2&nbsp;&nbsp;</span>Basic Methods</a></div><div class=\"lev3 toc-item\"><a href=\"#Relationship-Tests\" data-toc-modified-id=\"Relationship-Tests-113\"><span class=\"toc-item-num\">1.1.3&nbsp;&nbsp;</span>Relationship Tests</a></div><div class=\"lev2 toc-item\"><a href=\"#GeoDataFrame\" data-toc-modified-id=\"GeoDataFrame-12\"><span class=\"toc-item-num\">1.2&nbsp;&nbsp;</span>GeoDataFrame</a></div>"
   ]
  },
  {
   "cell_type": "markdown",
   "metadata": {},
   "source": [
    "# Data Structures"
   ]
  },
  {
   "cell_type": "markdown",
   "metadata": {},
   "source": [
    "GeoPandas implements two main data structures:\n",
    "- ```GeoSeries```\n",
    "- ```GeoDataFrame```\n",
    "\n",
    "These are subclasses of pandas ```Series``` and ```DataFrame```, respectively."
   ]
  },
  {
   "cell_type": "markdown",
   "metadata": {},
   "source": [
    "## GeoSeries"
   ]
  },
  {
   "cell_type": "markdown",
   "metadata": {},
   "source": [
    "- It is a vector where each entry in the vector is a set of shapes corresponding to one observation.\n",
    "- An entry may constist of:\n",
    "    - only one shape:\n",
    "        - e.g: single polygon\n",
    "    - multiple shapes that are meant to be thought of as one observation:\n",
    "        - many polygons that make up the State of Hawaii.\n",
    "        \n",
    "        \n",
    "    "
   ]
  },
  {
   "cell_type": "markdown",
   "metadata": {},
   "source": [
    "**geopandas** has three basic classes of geometric objects(Shapely objects):\n",
    "\n",
    "    - Points/ Multi-Points\n",
    "    - Lines/ Multilines\n",
    "    - Polygons/Multi-Polygeons\n",
    "    \n",
    "**NOTE:**\n",
    "- All entries in a ```GeoSeries``` need not be of the same geometric type, although certain export operations will fail if this is not the case."
   ]
  },
  {
   "cell_type": "markdown",
   "metadata": {},
   "source": [
    "### Attributes"
   ]
  },
  {
   "cell_type": "markdown",
   "metadata": {},
   "source": [
    "- ```area```: shape area (units of projection)\n",
    "- ```bounds```: tuple of max and min coordinates on each axis for each shape.\n",
    "- ```total_bounds```: tuple of max and min coordinates on each axis for entire GeoSeries.\n",
    "- ```geom_type```: type of geometry\n",
    "- ```is_valid```: tests if coordinates make a shape that is reasonable geometric shape."
   ]
  },
  {
   "cell_type": "markdown",
   "metadata": {},
   "source": [
    "### Basic Methods"
   ]
  },
  {
   "cell_type": "markdown",
   "metadata": {},
   "source": [
    "- ```distance(other)```: returns ```Series``` with minimum distance from each entry to ```other```.\n",
    "- ```centroid```: returns ```GeoSeries``` of centroids.\n",
    "- ```representative_point()```: returns ```GeoSeries``` of points that are guaranteed to be within each geometry.\n",
    "- ```to_crs()```: change coordinate reference system.\n",
    "- ```plot()```: plot ```GeoSeries```"
   ]
  },
  {
   "cell_type": "markdown",
   "metadata": {},
   "source": [
    "### Relationship Tests"
   ]
  },
  {
   "cell_type": "markdown",
   "metadata": {},
   "source": [
    "- ```geom_almost_equals(other)```: is shape almost the same as ```other```(good when floating point precision issues make shapes slightly different)\n",
    "- ```contains(other)```: is shape contained within ```other```\n",
    "- ```intersects(other)```: does shape intersect ```other```"
   ]
  },
  {
   "cell_type": "markdown",
   "metadata": {},
   "source": [
    "## GeoDataFrame"
   ]
  },
  {
   "cell_type": "markdown",
   "metadata": {},
   "source": [
    "- A ```GeoDataFrame``` is tabular data structure that contains a ```GeoSeries```.\n",
    "- The most important property of a ```GeoDataFrame``` is that it always has one ```GeoSeries``` column that holds a special status. This ```GeoSeries``` is referred to as the ```GeoDataFrame```'s \"geometry\".\n",
    "\n",
    "- When a spatial method is applied to a ```GeoDataFrame``` such as area, this command will always act on the \"geometry\" column.\n",
    "\n",
    "- The \"geometry\" column - no matter its name - can be accessed through the ```geometry``` attribute (```gdf.geometry```), and the name of the ```geometry``` column can be found by typing ```gdf.geometry.name```.\n",
    "\n",
    "- A ```GeoDataFrame``` may also contain other columns with geometrical(shapely) objects, but only one column can be the active geometry at a time. To change which column is the active geometry column, use the ```set_geometry``` method."
   ]
  },
  {
   "cell_type": "code",
   "execution_count": 6,
   "metadata": {
    "collapsed": true
   },
   "outputs": [],
   "source": [
    "import geopandas as gpd\n",
    "%matplotlib inline"
   ]
  },
  {
   "cell_type": "code",
   "execution_count": 2,
   "metadata": {
    "collapsed": true
   },
   "outputs": [],
   "source": [
    "world = gpd.read_file(gpd.datasets.get_path('naturalearth_lowres'))"
   ]
  },
  {
   "cell_type": "code",
   "execution_count": 3,
   "metadata": {},
   "outputs": [
    {
     "data": {
      "text/html": [
       "<div>\n",
       "<style>\n",
       "    .dataframe thead tr:only-child th {\n",
       "        text-align: right;\n",
       "    }\n",
       "\n",
       "    .dataframe thead th {\n",
       "        text-align: left;\n",
       "    }\n",
       "\n",
       "    .dataframe tbody tr th {\n",
       "        vertical-align: top;\n",
       "    }\n",
       "</style>\n",
       "<table border=\"1\" class=\"dataframe\">\n",
       "  <thead>\n",
       "    <tr style=\"text-align: right;\">\n",
       "      <th></th>\n",
       "      <th>continent</th>\n",
       "      <th>gdp_md_est</th>\n",
       "      <th>geometry</th>\n",
       "      <th>iso_a3</th>\n",
       "      <th>name</th>\n",
       "      <th>pop_est</th>\n",
       "    </tr>\n",
       "  </thead>\n",
       "  <tbody>\n",
       "    <tr>\n",
       "      <th>0</th>\n",
       "      <td>Asia</td>\n",
       "      <td>22270.0</td>\n",
       "      <td>POLYGON ((61.21081709172574 35.65007233330923,...</td>\n",
       "      <td>AFG</td>\n",
       "      <td>Afghanistan</td>\n",
       "      <td>28400000.0</td>\n",
       "    </tr>\n",
       "    <tr>\n",
       "      <th>1</th>\n",
       "      <td>Africa</td>\n",
       "      <td>110300.0</td>\n",
       "      <td>(POLYGON ((16.32652835456705 -5.87747039146621...</td>\n",
       "      <td>AGO</td>\n",
       "      <td>Angola</td>\n",
       "      <td>12799293.0</td>\n",
       "    </tr>\n",
       "    <tr>\n",
       "      <th>2</th>\n",
       "      <td>Europe</td>\n",
       "      <td>21810.0</td>\n",
       "      <td>POLYGON ((20.59024743010491 41.85540416113361,...</td>\n",
       "      <td>ALB</td>\n",
       "      <td>Albania</td>\n",
       "      <td>3639453.0</td>\n",
       "    </tr>\n",
       "    <tr>\n",
       "      <th>3</th>\n",
       "      <td>Asia</td>\n",
       "      <td>184300.0</td>\n",
       "      <td>POLYGON ((51.57951867046327 24.24549713795111,...</td>\n",
       "      <td>ARE</td>\n",
       "      <td>United Arab Emirates</td>\n",
       "      <td>4798491.0</td>\n",
       "    </tr>\n",
       "    <tr>\n",
       "      <th>4</th>\n",
       "      <td>South America</td>\n",
       "      <td>573900.0</td>\n",
       "      <td>(POLYGON ((-65.50000000000003 -55.199999999999...</td>\n",
       "      <td>ARG</td>\n",
       "      <td>Argentina</td>\n",
       "      <td>40913584.0</td>\n",
       "    </tr>\n",
       "  </tbody>\n",
       "</table>\n",
       "</div>"
      ],
      "text/plain": [
       "       continent  gdp_md_est  \\\n",
       "0           Asia     22270.0   \n",
       "1         Africa    110300.0   \n",
       "2         Europe     21810.0   \n",
       "3           Asia    184300.0   \n",
       "4  South America    573900.0   \n",
       "\n",
       "                                            geometry iso_a3  \\\n",
       "0  POLYGON ((61.21081709172574 35.65007233330923,...    AFG   \n",
       "1  (POLYGON ((16.32652835456705 -5.87747039146621...    AGO   \n",
       "2  POLYGON ((20.59024743010491 41.85540416113361,...    ALB   \n",
       "3  POLYGON ((51.57951867046327 24.24549713795111,...    ARE   \n",
       "4  (POLYGON ((-65.50000000000003 -55.199999999999...    ARG   \n",
       "\n",
       "                   name     pop_est  \n",
       "0           Afghanistan  28400000.0  \n",
       "1                Angola  12799293.0  \n",
       "2               Albania   3639453.0  \n",
       "3  United Arab Emirates   4798491.0  \n",
       "4             Argentina  40913584.0  "
      ]
     },
     "execution_count": 3,
     "metadata": {},
     "output_type": "execute_result"
    }
   ],
   "source": [
    "world.head()"
   ]
  },
  {
   "cell_type": "code",
   "execution_count": 4,
   "metadata": {},
   "outputs": [
    {
     "data": {
      "text/plain": [
       "0      POLYGON ((61.21081709172574 35.65007233330923,...\n",
       "1      (POLYGON ((16.32652835456705 -5.87747039146621...\n",
       "2      POLYGON ((20.59024743010491 41.85540416113361,...\n",
       "3      POLYGON ((51.57951867046327 24.24549713795111,...\n",
       "4      (POLYGON ((-65.50000000000003 -55.199999999999...\n",
       "5      POLYGON ((43.58274580259273 41.09214325618257,...\n",
       "6      (POLYGON ((-59.57209469261153 -80.040178725096...\n",
       "7      POLYGON ((68.935 -48.62500000000001, 69.58 -48...\n",
       "8      (POLYGON ((145.3979781434948 -40.7925485166058...\n",
       "9      POLYGON ((16.97966678230404 48.12349701597631,...\n",
       "10     (POLYGON ((45.0019873390568 39.7400035670496, ...\n",
       "11     POLYGON ((29.33999759290035 -4.499983412294092...\n",
       "12     POLYGON ((3.314971144228537 51.34578095153609,...\n",
       "13     POLYGON ((2.691701694356254 6.258817246928629,...\n",
       "14     POLYGON ((-2.827496303712707 9.642460842319778...\n",
       "15     POLYGON ((92.67272098182556 22.04123891854125,...\n",
       "16     POLYGON ((22.65714969248299 44.23492300066128,...\n",
       "17     (POLYGON ((-77.53465999999997 23.7597499999999...\n",
       "18     POLYGON ((19.00548628101012 44.86023366960916,...\n",
       "19     POLYGON ((23.48412763844985 53.91249766704114,...\n",
       "20     POLYGON ((-89.14308041050332 17.80831899664932...\n",
       "21     POLYGON ((-62.84646847192156 -22.0349854468694...\n",
       "22     POLYGON ((-57.62513342958296 -30.2162948544542...\n",
       "23     POLYGON ((114.2040165548284 4.525873928236805,...\n",
       "24     POLYGON ((91.69665652869668 27.77174184825166,...\n",
       "25     POLYGON ((25.64916344575016 -18.53602589281899...\n",
       "26     POLYGON ((15.27946048346911 7.421924546737969,...\n",
       "27     (POLYGON ((-63.66449999999998 46.5500099999999...\n",
       "28     POLYGON ((9.59422610844635 47.52505809182027, ...\n",
       "29     (POLYGON ((-68.63401022758316 -52.636370458874...\n",
       "                             ...                        \n",
       "147    POLYGON ((20.87431277841341 45.41637543393432,...\n",
       "148    POLYGON ((-57.14743648947689 5.973149929219161...\n",
       "149    POLYGON ((18.85314415861362 49.49622976337764,...\n",
       "150    POLYGON ((13.80647545742153 46.50930613869122,...\n",
       "151    POLYGON ((22.18317345550193 65.72374054632017,...\n",
       "152    POLYGON ((32.07166548028107 -26.73382008230491...\n",
       "153    POLYGON ((38.79234052913608 33.37868642835222,...\n",
       "154    POLYGON ((14.4957873877629 12.85939626713736, ...\n",
       "155    POLYGON ((1.865240512712319 6.142157701029731,...\n",
       "156    POLYGON ((102.5849324890267 12.18659495691328,...\n",
       "157    POLYGON ((71.01419803252017 40.24436554621823,...\n",
       "158    POLYGON ((61.21081709172574 35.65007233330923,...\n",
       "159    POLYGON ((124.9686824891162 -8.892790215697083...\n",
       "160    POLYGON ((-61.68000000000001 10.76, -61.105 10...\n",
       "161    POLYGON ((9.482139926805274 30.30755605724619,...\n",
       "162    (POLYGON ((36.91312706884216 41.33535838476431...\n",
       "163    POLYGON ((121.7778178243899 24.3942735865194, ...\n",
       "164    POLYGON ((33.9037111971046 -0.9499999999999886...\n",
       "165    POLYGON ((31.86617000000007 -1.027359999999931...\n",
       "166    POLYGON ((31.78599816257159 52.10167796488545,...\n",
       "167    POLYGON ((-57.62513342958296 -30.2162948544542...\n",
       "168    (POLYGON ((-155.54211 19.08348000000001, -155....\n",
       "169    POLYGON ((66.51860680528867 37.36278432875879,...\n",
       "170    POLYGON ((-71.3315836249503 11.77628408451581,...\n",
       "171    POLYGON ((108.0501802917829 21.55237986906012,...\n",
       "172    (POLYGON ((167.8448767438451 -16.4663331030971...\n",
       "173    POLYGON ((53.10857262554751 16.65105113368895,...\n",
       "174    POLYGON ((31.52100141777888 -29.25738697684626...\n",
       "175    POLYGON ((32.75937544122132 -9.23059905358906,...\n",
       "176    POLYGON ((31.19140913262129 -22.2515096981724,...\n",
       "Name: geometry, Length: 177, dtype: object"
      ]
     },
     "execution_count": 4,
     "metadata": {},
     "output_type": "execute_result"
    }
   ],
   "source": [
    "world.geometry"
   ]
  },
  {
   "cell_type": "code",
   "execution_count": 7,
   "metadata": {},
   "outputs": [
    {
     "data": {
      "image/png": "[encoded data removed]",
      "text/plain": [
       "<matplotlib.figure.Figure at 0x7f9c425ed860>"
      ]
     },
     "metadata": {},
     "output_type": "display_data"
    }
   ],
   "source": [
    "world.plot();"
   ]
  },
  {
   "cell_type": "code",
   "execution_count": 8,
   "metadata": {},
   "outputs": [
    {
     "data": {
      "text/plain": [
       "'geometry'"
      ]
     },
     "execution_count": 8,
     "metadata": {},
     "output_type": "execute_result"
    }
   ],
   "source": [
    "world.geometry.name"
   ]
  },
  {
   "cell_type": "code",
   "execution_count": 9,
   "metadata": {},
   "outputs": [
    {
     "data": {
      "text/plain": [
       "0        63.593500\n",
       "1       103.599439\n",
       "2         3.185163\n",
       "3         7.095047\n",
       "4       278.923392\n",
       "5         3.030560\n",
       "6      6028.836194\n",
       "7         1.432928\n",
       "8       695.545501\n",
       "9        10.179604\n",
       "10        9.642786\n",
       "11        2.135367\n",
       "12        3.830007\n",
       "13        9.641193\n",
       "14       22.574625\n",
       "15       11.857175\n",
       "16       12.119548\n",
       "17        1.399757\n",
       "18        5.696667\n",
       "19       28.301182\n",
       "20        1.872603\n",
       "21       92.077173\n",
       "22      710.185243\n",
       "23        0.872053\n",
       "24        3.594123\n",
       "25       51.837670\n",
       "26       50.861076\n",
       "27     1712.995228\n",
       "28        5.440201\n",
       "29       86.508469\n",
       "          ...     \n",
       "147       8.604722\n",
       "148      11.751504\n",
       "149       5.753425\n",
       "150       2.225310\n",
       "151      79.446214\n",
       "152       1.639983\n",
       "153      18.293965\n",
       "154     107.167364\n",
       "155       5.007220\n",
       "156      42.941255\n",
       "157      14.272461\n",
       "158      50.073501\n",
       "159       1.208939\n",
       "160       0.639000\n",
       "161      15.285952\n",
       "162      83.154637\n",
       "163       3.043213\n",
       "164      76.301992\n",
       "165      19.976559\n",
       "166      73.965229\n",
       "167      17.027171\n",
       "168    1122.282026\n",
       "169      49.958821\n",
       "170      74.438502\n",
       "171      28.552628\n",
       "172       0.631326\n",
       "173      38.475618\n",
       "174     112.718524\n",
       "175      62.789499\n",
       "176      32.280371\n",
       "Length: 177, dtype: float64"
      ]
     },
     "execution_count": 9,
     "metadata": {},
     "output_type": "execute_result"
    }
   ],
   "source": [
    "world.area"
   ]
  },
  {
   "cell_type": "code",
   "execution_count": 12,
   "metadata": {},
   "outputs": [
    {
     "data": {
      "text/plain": [
       "<matplotlib.axes._subplots.AxesSubplot at 0x7f9c46124390>"
      ]
     },
     "execution_count": 12,
     "metadata": {},
     "output_type": "execute_result"
    },
    {
     "data": {
      "image/png": "[encoded data removed]",
      "text/plain": [
       "<matplotlib.figure.Figure at 0x7f9c48442dd8>"
      ]
     },
     "metadata": {},
     "output_type": "display_data"
    }
   ],
   "source": [
    "world.boxplot()"
   ]
  },
  {
   "cell_type": "code",
   "execution_count": 13,
   "metadata": {},
   "outputs": [
    {
     "data": {
      "text/plain": [
       "0        POINT (66.08669022192834 33.85639928169076)\n",
       "1       POINT (17.47057255231345 -12.24586903613316)\n",
       "2        POINT (20.03242643144321 41.14135330604877)\n",
       "3        POINT (54.20671476159633 23.86863365334761)\n",
       "4      POINT (-65.17536077114174 -35.44682148949509)\n",
       "5        POINT (45.00029001101479 40.21660761230144)\n",
       "6       POINT (20.57100056984261 -80.49198288284349)\n",
       "7       POINT (69.53158047042371 -49.30645491167198)\n",
       "8        POINT (134.502775475366 -25.73065477972607)\n",
       "9        POINT (14.07615888433708 47.61394879274629)\n",
       "10       POINT (47.55390958999187 40.22069060359235)\n",
       "11      POINT (29.91390089307105 -3.377391812428584)\n",
       "12       POINT (4.580831590651701 50.65244260645211)\n",
       "13        POINT (2.33737755349616 9.647430780663713)\n",
       "14       POINT (-1.77653745205594 12.31165049413671)\n",
       "15       POINT (90.26792827719598 23.83946179534406)\n",
       "16       POINT (25.19511095327711 42.75311876202169)\n",
       "17      POINT (-77.92997080393509 25.51549172533655)\n",
       "18       POINT (17.81688342129799 44.18076784138619)\n",
       "19       POINT (27.98135398690368 53.50634440475127)\n",
       "20      POINT (-88.70342125299317 17.19708991145154)\n",
       "21     POINT (-64.64140560603109 -16.72898701530583)\n",
       "22      POINT (-53.0543400357671 -10.80677364349892)\n",
       "23       POINT (114.9151087739395 4.690250542520635)\n",
       "24        POINT (90.4724248062037 27.42796864910203)\n",
       "25      POINT (23.77308146578943 -22.09971137882642)\n",
       "26       POINT (20.37434729124393 6.542778705921302)\n",
       "27      POINT (-98.14238137209725 61.46907614534906)\n",
       "28       POINT (8.118300613385486 46.79173768366761)\n",
       "29     POINT (-71.52064394516432 -39.04701430994845)\n",
       "                           ...                      \n",
       "147      POINT (20.81965126743019 44.23303720363518)\n",
       "148     POINT (-55.91145629952072 4.120008031758885)\n",
       "149        POINT (19.5076571474337 48.7267113517275)\n",
       "150      POINT (14.93815232079573 46.12542205901038)\n",
       "151      POINT (16.59626584684802 62.81148496808033)\n",
       "152     POINT (31.39525590206532 -26.48985528852001)\n",
       "153        POINT (38.54423941961137 35.012614281129)\n",
       "154      POINT (18.58132952533289 15.32886739983966)\n",
       "155     POINT (0.9964039436703581 8.439541954669615)\n",
       "156      POINT (101.0061335462611 15.01697499141648)\n",
       "157       POINT (71.03443504896107 38.5830814642108)\n",
       "158      POINT (59.27543026236143 39.09124018017582)\n",
       "159      POINT (125.966300273684 -8.767760362467003)\n",
       "160     POINT (-61.33036691444967 10.42823708920188)\n",
       "161      POINT (9.534716120695833 34.17293903688238)\n",
       "162      POINT (35.11690130804055 39.06837174141658)\n",
       "163      POINT (120.9748007374862 23.74096497978494)\n",
       "164     POINT (34.75298813146117 -6.257732720845605)\n",
       "165      POINT (32.35754815372395 1.295486963097121)\n",
       "166      POINT (31.36953308035628 48.97301796820209)\n",
       "167    POINT (-56.00327866654847 -32.78090436523082)\n",
       "168     POINT (-112.5994383773273 45.70562953540318)\n",
       "169      POINT (63.20363952823172 41.74860266465218)\n",
       "170     POINT (-66.16382727830239 7.162132267639009)\n",
       "171      POINT (106.2858407970519 16.65793775325494)\n",
       "172     POINT (167.0737512682268 -15.54267705755496)\n",
       "173        POINT (47.53504475854349 15.913231950143)\n",
       "174     POINT (25.04801387986167 -28.94703325997912)\n",
       "175     POINT (27.72759193998218 -13.39506752005761)\n",
       "176      POINT (29.78854837189252 -18.9069879478588)\n",
       "Length: 177, dtype: object"
      ]
     },
     "execution_count": 13,
     "metadata": {},
     "output_type": "execute_result"
    }
   ],
   "source": [
    "world.centroid"
   ]
  },
  {
   "cell_type": "code",
   "execution_count": 16,
   "metadata": {},
   "outputs": [
    {
     "data": {
      "text/plain": [
       "gdp_md_est      43270.0\n",
       "pop_est       9035536.0\n",
       "Name: 0.5, dtype: float64"
      ]
     },
     "execution_count": 16,
     "metadata": {},
     "output_type": "execute_result"
    }
   ],
   "source": [
    "world.quantile()"
   ]
  },
  {
   "cell_type": "code",
   "execution_count": 26,
   "metadata": {},
   "outputs": [],
   "source": [
    "from shapely.geometry import Point"
   ]
  },
  {
   "cell_type": "code",
   "execution_count": 27,
   "metadata": {
    "collapsed": true
   },
   "outputs": [],
   "source": [
    "a = Point(125, -9)"
   ]
  },
  {
   "cell_type": "code",
   "execution_count": 30,
   "metadata": {},
   "outputs": [],
   "source": [
    "b = world.contains(a)"
   ]
  },
  {
   "cell_type": "code",
   "execution_count": 31,
   "metadata": {},
   "outputs": [
    {
     "data": {
      "text/plain": [
       "count       177\n",
       "unique        2\n",
       "top       False\n",
       "freq        176\n",
       "dtype: object"
      ]
     },
     "execution_count": 31,
     "metadata": {},
     "output_type": "execute_result"
    }
   ],
   "source": [
    "b.describe()"
   ]
  },
  {
   "cell_type": "code",
   "execution_count": 32,
   "metadata": {},
   "outputs": [
    {
     "data": {
      "text/plain": [
       "array([False,  True], dtype=bool)"
      ]
     },
     "execution_count": 32,
     "metadata": {},
     "output_type": "execute_result"
    }
   ],
   "source": [
    "b.unique()"
   ]
  }
 ],
 "metadata": {
  "kernelspec": {
   "display_name": "Python 3",
   "language": "python",
   "name": "python3"
  },
  "language_info": {
   "codemirror_mode": {
    "name": "ipython",
    "version": 3
   },
   "file_extension": ".py",
   "mimetype": "text/x-python",
   "name": "python",
   "nbconvert_exporter": "python",
   "pygments_lexer": "ipython3",
   "version": "3.6.1"
  },
  "toc": {
   "colors": {
    "hover_highlight": "#DAA520",
    "navigate_num": "#000000",
    "navigate_text": "#333333",
    "running_highlight": "#FF0000",
    "selected_highlight": "#FFD700",
    "sidebar_border": "#EEEEEE",
    "wrapper_background": "#FFFFFF"
   },
   "moveMenuLeft": true,
   "nav_menu": {
    "height": "120px",
    "width": "252px"
   },
   "navigate_menu": true,
   "number_sections": false,
   "sideBar": true,
   "threshold": 4,
   "toc_cell": true,
   "toc_section_display": "block",
   "toc_window_display": false,
   "widenNotebook": false
  }
 },
 "nbformat": 4,
 "nbformat_minor": 2
}
