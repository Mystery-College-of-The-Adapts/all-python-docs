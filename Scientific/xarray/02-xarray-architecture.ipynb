{
 "cells": [
  {
   "cell_type": "markdown",
   "metadata": {},
   "source": [
    "Last Updated: 7-29-2017"
   ]
  },
  {
   "cell_type": "markdown",
   "metadata": {
    "toc": "true"
   },
   "source": [
    "# Table of Contents\n",
    " <p><div class=\"lev1 toc-item\"><a href=\"#xarray-architecture\" data-toc-modified-id=\"xarray-architecture-1\"><span class=\"toc-item-num\">1&nbsp;&nbsp;</span>xarray architecture</a></div><div class=\"lev2 toc-item\"><a href=\"#What-is-xarray?\" data-toc-modified-id=\"What-is-xarray?-11\"><span class=\"toc-item-num\">1.1&nbsp;&nbsp;</span>What is xarray?</a></div><div class=\"lev2 toc-item\"><a href=\"#When-to-use-xarray:\" data-toc-modified-id=\"When-to-use-xarray:-12\"><span class=\"toc-item-num\">1.2&nbsp;&nbsp;</span>When to use xarray:</a></div><div class=\"lev2 toc-item\"><a href=\"#Basic-xarray-data-structures:\" data-toc-modified-id=\"Basic-xarray-data-structures:-13\"><span class=\"toc-item-num\">1.3&nbsp;&nbsp;</span>Basic xarray data structures:</a></div><div class=\"lev3 toc-item\"><a href=\"#DataArray\" data-toc-modified-id=\"DataArray-131\"><span class=\"toc-item-num\">1.3.1&nbsp;&nbsp;</span><code>DataArray</code></a></div><div class=\"lev3 toc-item\"><a href=\"#Dataset\" data-toc-modified-id=\"Dataset-132\"><span class=\"toc-item-num\">1.3.2&nbsp;&nbsp;</span><code>Dataset</code></a></div><div class=\"lev2 toc-item\"><a href=\"#Importing-the-xarray-library\" data-toc-modified-id=\"Importing-the-xarray-library-14\"><span class=\"toc-item-num\">1.4&nbsp;&nbsp;</span>Importing the xarray library</a></div><div class=\"lev2 toc-item\"><a href=\"#Open-the-dataset\" data-toc-modified-id=\"Open-the-dataset-15\"><span class=\"toc-item-num\">1.5&nbsp;&nbsp;</span>Open the dataset</a></div><div class=\"lev2 toc-item\"><a href=\"#Dataset-Properties\" data-toc-modified-id=\"Dataset-Properties-16\"><span class=\"toc-item-num\">1.6&nbsp;&nbsp;</span><code>Dataset</code> Properties</a></div><div class=\"lev2 toc-item\"><a href=\"#Extracting-DataArrays-from-a-Dataset\" data-toc-modified-id=\"Extracting-DataArrays-from-a-Dataset-17\"><span class=\"toc-item-num\">1.7&nbsp;&nbsp;</span>Extracting <code>DataArrays</code> from a <code>Dataset</code></a></div><div class=\"lev2 toc-item\"><a href=\"#Key-Points\" data-toc-modified-id=\"Key-Points-18\"><span class=\"toc-item-num\">1.8&nbsp;&nbsp;</span>Key Points</a></div>"
   ]
  },
  {
   "cell_type": "markdown",
   "metadata": {},
   "source": [
    "# xarray architecture"
   ]
  },
  {
   "cell_type": "markdown",
   "metadata": {},
   "source": [
    "## What is xarray?\n",
    "\n",
    "* originally developed by employees (Stephan Hoyer, Alex Kleeman and Eugene Brevdo) at [The Climate Corporation](https://climate.com/)\n",
    "* xarray extends some of the core functionality of the Pandas library:\n",
    "    * operations over _named_ dimensions\n",
    "    * selection by label instead of integer location\n",
    "    * powerful _groupby_ functionality\n",
    "    * database-like joins\n",
    "\n",
    "## When to use xarray:\n",
    "\n",
    "* if your data are multidimensional (e.g. climate data: x, y, z, time)\n",
    "* if your data are structured on a regular grid\n",
    "* if you can represent your data in netCDF format\n",
    "\n",
    "## Basic xarray data structures:\n",
    "* NetCDF forms the basis of the xarray data structure\n",
    "* two main data structures are the `DataArray` and the `Dataset`\n",
    "\n",
    "### `DataArray`\n",
    "* the `DataArray` is xarray's implementation of a labeled, multi-dimensional array\n",
    "* the `DataArray` has these key properties:\n",
    "  * `data`: N-dimensional array (NumPy or dask) holding the array's values,\n",
    "  * `dims`: dimension names for each axis,\n",
    "  * `coords`: dictionary-like container of arrays that label each point, and\n",
    "  * `attrs`: ordered dictionary holding metadata\n",
    "\n",
    "![Imgur](http://i.imgur.com/Jj5JINC.png)\n",
    "* dimensions(x, y, time); variables(temp, precip); coords(lat, long); attributes\n",
    "\n",
    "### `Dataset`\n",
    "* xarray's multi-dimensional equivalent of a Pandas `DataFrame`\n",
    "* dict-like container of DataArray objects with aligned dimensions\n",
    "* Datasets have these key properties:\n",
    "  * `dims`: dictionary mapping from dimension names to the fixed length of each dimension,\n",
    "  * `data_vars`: dict-like container of `DataArrays` corresponding to data variables,\n",
    "  * `coords`: dictionary-like container of `DataArrays` intended to label points used in data_vars\n",
    "  * `attrs`: ordered dictionary holding metadata"
   ]
  },
  {
   "cell_type": "markdown",
   "metadata": {},
   "source": [
    "## Importing the xarray library"
   ]
  },
  {
   "cell_type": "code",
   "execution_count": 1,
   "metadata": {
    "collapsed": true
   },
   "outputs": [],
   "source": [
    "import xarray as xr"
   ]
  },
  {
   "cell_type": "markdown",
   "metadata": {},
   "source": [
    "## Open the dataset"
   ]
  },
  {
   "cell_type": "code",
   "execution_count": 2,
   "metadata": {},
   "outputs": [
    {
     "name": "stdout",
     "output_type": "stream",
     "text": [
      "CPU times: user 20 ms, sys: 16 ms, total: 36 ms\n",
      "Wall time: 475 ms\n"
     ]
    }
   ],
   "source": [
    "%time ds = xr.open_dataset('/home/abanihi/Documents/climate-data/ERM/t85.an.sfc/e4moda.an.sfc.t85.sst.1957-2002.nc')"
   ]
  },
  {
   "cell_type": "markdown",
   "metadata": {},
   "source": [
    "- You will notice this seemed to go very fast. That is because this step doesn't actually ask Python to read the data into memory. Rather, Python is just scanning the contents of the file.\n",
    "- This is called lazy loading."
   ]
  },
  {
   "cell_type": "markdown",
   "metadata": {},
   "source": [
    "## ```Dataset``` Properties"
   ]
  },
  {
   "cell_type": "code",
   "execution_count": 3,
   "metadata": {},
   "outputs": [
    {
     "data": {
      "text/plain": [
       "<xarray.Dataset>\n",
       "Dimensions:     (lat: 128, lon: 256, time: 540)\n",
       "Coordinates:\n",
       "  * time        (time) datetime64[ns] 1957-09-01 1957-10-01 1957-11-01 ...\n",
       "  * lat         (lat) float32 -88.9277 -87.5387 -86.1415 -84.7424 -83.3426 ...\n",
       "  * lon         (lon) float32 0.0 1.406 2.812 4.218 5.624 7.03 8.436 9.842 ...\n",
       "Data variables:\n",
       "    gw          (lat) float32 0.000449381 0.00104581 0.0016425 0.00223829 ...\n",
       "    date        (time) int32 19570901 19571001 19571101 19571201 19580101 ...\n",
       "    datesec     (time) int32 0 0 0 0 0 0 0 0 0 0 0 0 0 0 0 0 0 0 0 0 0 0 0 0 ...\n",
       "    yyyymmddhh  (time) int32 1957090100 1957100100 1957110100 1957120100 ...\n",
       "    SST         (time, lat, lon) float64 nan nan nan nan nan nan nan nan nan ...\n",
       "Attributes:\n",
       "    title:                     \\nERA40 T85 Surface Analysis: created at NCAR\n",
       "    temporal_span:             \\nThe entire ERA40 archive spans 45 years: Sep...\n",
       "    source_original:           \\nEuropean Center for Medium-Range Weather For...\n",
       "    story:                     \\nThis dataset is a netCDF version of ds126.0 ...\n",
       "    source_NCAR:               \\nData Support Section                        ...\n",
       "    source_format:             \\nThe original ECMWF and the derived T85 are i...\n",
       "    source_file:               \\nMSS: /DSS/U82386\n",
       "    source_availability:       \\nThe ERA-40 data are available for non-commer...\n",
       "    netCDF_creation:           \\nClimate Analysis Section                    ...\n",
       "    netCDF_creation_software:  \\nNCAR Command Language (NCL)                 ...\n",
       "    netCDF_creation_date:      \\nThu Mar 31 21:07:32 MST 2005\n",
       "    Conventions:               CF\n",
       "    history:                   Fri Apr  1 11:51:15 2005: ncrcat /era40/ds126....\n",
       "    nco_openmp_thread_number:  1"
      ]
     },
     "execution_count": 3,
     "metadata": {},
     "output_type": "execute_result"
    }
   ],
   "source": [
    "ds"
   ]
  },
  {
   "cell_type": "code",
   "execution_count": 4,
   "metadata": {},
   "outputs": [
    {
     "data": {
      "text/plain": [
       "Coordinates:\n",
       "  * time     (time) datetime64[ns] 1957-09-01 1957-10-01 1957-11-01 ...\n",
       "  * lat      (lat) float32 -88.9277 -87.5387 -86.1415 -84.7424 -83.3426 ...\n",
       "  * lon      (lon) float32 0.0 1.406 2.812 4.218 5.624 7.03 8.436 9.842 ..."
      ]
     },
     "execution_count": 4,
     "metadata": {},
     "output_type": "execute_result"
    }
   ],
   "source": [
    "# coordinates\n",
    "ds.coords"
   ]
  },
  {
   "cell_type": "code",
   "execution_count": 5,
   "metadata": {},
   "outputs": [
    {
     "data": {
      "text/plain": [
       "OrderedDict([('title', '\\nERA40 T85 Surface Analysis: created at NCAR'),\n",
       "             ('temporal_span',\n",
       "              '\\nThe entire ERA40 archive spans 45 years: September 1957 - August 2002.'),\n",
       "             ('source_original',\n",
       "              '\\nEuropean Center for Medium-Range Weather Forecasts - Reading   \\n'),\n",
       "             ('story',\n",
       "              \"\\nThis dataset is a netCDF version of ds126.0 which is archived  \\nin GRIB format. The original dataset was implemented and       \\ncomputed by NCAR's Data Support Section (DSS), and forms an    \\nessential part of efforts undertaken in late 2004, early 2005, \\nto produce an archive of selected segments of ERA-40 on a      \\nstandard transformation grid. In this case, 47 ERA-40 monthly  \\nmean surface and single level analysis (*instantaneous*)       \\nvariables were transformed from a reduced N80 Gaussian grid to \\na 256x128 regular Gaussian grid. All fields were transformed using\\nroutines from the ECMWF EMOS library, including 10 meter winds \\nwhich were treated as scalars because of a lack of 10 meter    \\nspectral vorticity and divergence. A missing value of 1e+20    \\n(assigned to the _FillValue attribute) occurs in the sea       \\nsurface temperature (SST) and sea ice (CI) fields to mask      \\ngrid points occurring over land. Fields formerly archived      \\nas whole integers, such as vegetation indices and cloud cover, \\noccur as integers plus a fractional part in the T85 version    \\ndue to interpolation. The choice of a T85 Gaussian grid was    \\nbased on considerations of limiting the volume of new data     \\ngenerated to a moderate level, and to match the horizontal     \\nresolution of the  Community Atmosphere Model (CAM) component  \\nof the  Community Climate System Model (CCSM).                 \\n\"),\n",
       "             ('source_NCAR',\n",
       "              '\\nData Support Section                                           \\nScientific Computing Division                                  \\nDataset ID: ds126.0                                            \\nhttp://dss.ucar.edu/datasets/ds126.0/                          \\nSpecialist: David Stepaniak, davestep@ucar.edu                 '),\n",
       "             ('source_format',\n",
       "              '\\nThe original ECMWF and the derived T85 are in GRIB format.     \\n'),\n",
       "             ('source_file', '\\nMSS: /DSS/U82386'),\n",
       "             ('source_availability',\n",
       "              '\\nThe ERA-40 data are available for non-commercial use within    \\nthe U.S. and at UCAR member institutions.  All data are        \\navailable from the NCAR Mass Storage System (MSS). Use of      \\nthe data at NCAR does not require the submission of a          \\npermission form.  However, if you do not have access to the    \\nMSS or wish to utilize the data outside of NCAR, then a        \\npermission form must be signed. This form is available at      \\n   http://dss.ucar.edu/datasets/common/ecmwf/docs/perms.html   \\nRedistribution of ERA-40 data under any circumstances is       \\nstrictly prohibited.                                           \\n'),\n",
       "             ('netCDF_creation',\n",
       "              '\\nClimate Analysis Section                                       \\nClimate & Global Dynamics Division, NCAR                       \\nhttp://www.cgd.ucar.edu/cas/catalog/ecmwf/                     \\nDennis Shea, shea@ucar.edu                                     \\n'),\n",
       "             ('netCDF_creation_software',\n",
       "              '\\nNCAR Command Language (NCL)                                    \\nhttp://www.ncl.ucar.edu/   [Click Download]                    \\nContact shea@ucar.edu for NCL script                           \\n'),\n",
       "             ('netCDF_creation_date', '\\nThu Mar 31 21:07:32 MST 2005'),\n",
       "             ('Conventions', 'CF'),\n",
       "             ('history',\n",
       "              'Fri Apr  1 11:51:15 2005: ncrcat /era40/ds126.0/netCDF/SFC/e4moda.an.sfc.t85.sst.1957.nc /era40/ds126.0/netCDF/SFC/e4moda.an.sfc.t85.sst.1958.nc /era40/ds126.0/netCDF/SFC/e4moda.an.sfc.t85.sst.1959.nc /era40/ds126.0/netCDF/SFC/e4moda.an.sfc.t85.sst.1960.nc /era40/ds126.0/netCDF/SFC/e4moda.an.sfc.t85.sst.1961.nc /era40/ds126.0/netCDF/SFC/e4moda.an.sfc.t85.sst.1962.nc /era40/ds126.0/netCDF/SFC/e4moda.an.sfc.t85.sst.1963.nc /era40/ds126.0/netCDF/SFC/e4moda.an.sfc.t85.sst.1964.nc /era40/ds126.0/netCDF/SFC/e4moda.an.sfc.t85.sst.1965.nc /era40/ds126.0/netCDF/SFC/e4moda.an.sfc.t85.sst.1966.nc /era40/ds126.0/netCDF/SFC/e4moda.an.sfc.t85.sst.1967.nc /era40/ds126.0/netCDF/SFC/e4moda.an.sfc.t85.sst.1968.nc /era40/ds126.0/netCDF/SFC/e4moda.an.sfc.t85.sst.1969.nc /era40/ds126.0/netCDF/SFC/e4moda.an.sfc.t85.sst.1970.nc /era40/ds126.0/netCDF/SFC/e4moda.an.sfc.t85.sst.1971.nc /era40/ds126.0/netCDF/SFC/e4moda.an.sfc.t85.sst.1972.nc /era40/ds126.0/netCDF/SFC/e4moda.an.sfc.t85.sst.1973.nc /era40/ds126.0/netCDF/SFC/e4moda.an.sfc.t85.sst.1974.nc /era40/ds126.0/netCDF/SFC/e4moda.an.sfc.t85.sst.1975.nc /era40/ds126.0/netCDF/SFC/e4moda.an.sfc.t85.sst.1976.nc /era40/ds126.0/netCDF/SFC/e4moda.an.sfc.t85.sst.1977.nc /era40/ds126.0/netCDF/SFC/e4moda.an.sfc.t85.sst.1978.nc /era40/ds126.0/netCDF/SFC/e4moda.an.sfc.t85.sst.1979.nc /era40/ds126.0/netCDF/SFC/e4moda.an.sfc.t85.sst.1980.nc /era40/ds126.0/netCDF/SFC/e4moda.an.sfc.t85.sst.1981.nc /era40/ds126.0/netCDF/SFC/e4moda.an.sfc.t85.sst.1982.nc /era40/ds126.0/netCDF/SFC/e4moda.an.sfc.t85.sst.1983.nc /era40/ds126.0/netCDF/SFC/e4moda.an.sfc.t85.sst.1984.nc /era40/ds126.0/netCDF/SFC/e4moda.an.sfc.t85.sst.1985.nc /era40/ds126.0/netCDF/SFC/e4moda.an.sfc.t85.sst.1986.nc /era40/ds126.0/netCDF/SFC/e4moda.an.sfc.t85.sst.1987.nc /era40/ds126.0/netCDF/SFC/e4moda.an.sfc.t85.sst.1988.nc /era40/ds126.0/netCDF/SFC/e4moda.an.sfc.t85.sst.1989.nc /era40/ds126.0/netCDF/SFC/e4moda.an.sfc.t85.sst.1990.nc /era40/ds126.0/netCDF/SFC/e4moda.an.sfc.t85.sst.1991.nc /era40/ds126.0/netCDF/SFC/e4moda.an.sfc.t85.sst.1992.nc /era40/ds126.0/netCDF/SFC/e4moda.an.sfc.t85.sst.1993.nc /era40/ds126.0/netCDF/SFC/e4moda.an.sfc.t85.sst.1994.nc /era40/ds126.0/netCDF/SFC/e4moda.an.sfc.t85.sst.1995.nc /era40/ds126.0/netCDF/SFC/e4moda.an.sfc.t85.sst.1996.nc /era40/ds126.0/netCDF/SFC/e4moda.an.sfc.t85.sst.1997.nc /era40/ds126.0/netCDF/SFC/e4moda.an.sfc.t85.sst.1998.nc /era40/ds126.0/netCDF/SFC/e4moda.an.sfc.t85.sst.1999.nc /era40/ds126.0/netCDF/SFC/e4moda.an.sfc.t85.sst.2000.nc /era40/ds126.0/netCDF/SFC/e4moda.an.sfc.t85.sst.2001.nc /era40/ds126.0/netCDF/SFC/e4moda.an.sfc.t85.sst.2002.nc /era40/ds126.0/netCDF/SFC/e4moda.an.sfc.t85.sst.1957-2002.nc'),\n",
       "             ('nco_openmp_thread_number', 1)])"
      ]
     },
     "execution_count": 5,
     "metadata": {},
     "output_type": "execute_result"
    }
   ],
   "source": [
    "# attributes\n",
    "ds.attrs"
   ]
  },
  {
   "cell_type": "code",
   "execution_count": 6,
   "metadata": {},
   "outputs": [
    {
     "data": {
      "text/plain": [
       "Data variables:\n",
       "    gw          (lat) float32 0.000449381 0.00104581 0.0016425 0.00223829 ...\n",
       "    date        (time) int32 19570901 19571001 19571101 19571201 19580101 ...\n",
       "    datesec     (time) int32 0 0 0 0 0 0 0 0 0 0 0 0 0 0 0 0 0 0 0 0 0 0 0 0 ...\n",
       "    yyyymmddhh  (time) int32 1957090100 1957100100 1957110100 1957120100 ...\n",
       "    SST         (time, lat, lon) float64 nan nan nan nan nan nan nan nan nan ..."
      ]
     },
     "execution_count": 6,
     "metadata": {},
     "output_type": "execute_result"
    }
   ],
   "source": [
    "# data variables\n",
    "ds.data_vars"
   ]
  },
  {
   "cell_type": "markdown",
   "metadata": {},
   "source": [
    "## Extracting ```DataArrays``` from a ```Dataset```"
   ]
  },
  {
   "cell_type": "code",
   "execution_count": 8,
   "metadata": {},
   "outputs": [],
   "source": [
    "sst = ds['SST']"
   ]
  },
  {
   "cell_type": "markdown",
   "metadata": {},
   "source": [
    "Now, take a look at the contents of the temperature variable. Note that the associated coordinates and attributes get carried along for the ride. Also note that we are still not reading any data into memory."
   ]
  },
  {
   "cell_type": "code",
   "execution_count": 9,
   "metadata": {},
   "outputs": [
    {
     "data": {
      "text/plain": [
       "<xarray.DataArray 'SST' (time: 540, lat: 128, lon: 256)>\n",
       "array([[[        nan,         nan, ...,         nan,         nan],\n",
       "        [        nan,         nan, ...,         nan,         nan],\n",
       "        ..., \n",
       "        [ 271.460205,  271.460205, ...,  271.460205,  271.460205],\n",
       "        [ 271.460205,  271.460205, ...,  271.460205,  271.460205]],\n",
       "\n",
       "       [[        nan,         nan, ...,         nan,         nan],\n",
       "        [        nan,         nan, ...,         nan,         nan],\n",
       "        ..., \n",
       "        [ 271.460693,  271.460693, ...,  271.460693,  271.460693],\n",
       "        [ 271.460693,  271.460693, ...,  271.460693,  271.460693]],\n",
       "\n",
       "       ..., \n",
       "       [[        nan,         nan, ...,         nan,         nan],\n",
       "        [        nan,         nan, ...,         nan,         nan],\n",
       "        ..., \n",
       "        [ 271.460205,  271.460205, ...,  271.460205,  271.460205],\n",
       "        [ 271.460205,  271.460205, ...,  271.460205,  271.460205]],\n",
       "\n",
       "       [[        nan,         nan, ...,         nan,         nan],\n",
       "        [        nan,         nan, ...,         nan,         nan],\n",
       "        ..., \n",
       "        [ 271.460449,  271.460449, ...,  271.460449,  271.460449],\n",
       "        [ 271.460449,  271.460449, ...,  271.460449,  271.460449]]])\n",
       "Coordinates:\n",
       "  * time     (time) datetime64[ns] 1957-09-01 1957-10-01 1957-11-01 ...\n",
       "  * lat      (lat) float32 -88.9277 -87.5387 -86.1415 -84.7424 -83.3426 ...\n",
       "  * lon      (lon) float32 0.0 1.406 2.812 4.218 5.624 7.03 8.436 9.842 ...\n",
       "Attributes:\n",
       "    units:      K\n",
       "    long_name:  Sea surface temperature"
      ]
     },
     "execution_count": 9,
     "metadata": {},
     "output_type": "execute_result"
    }
   ],
   "source": [
    "sst"
   ]
  },
  {
   "cell_type": "markdown",
   "metadata": {},
   "source": [
    "## Key Points\n",
    "\n",
    "- xarray is build on the netCDF data model\n",
    "- xarray has two main data structures: DataArray and Dataset\n",
    "- DataArrays store the multi-dimensional arrays\n",
    "- Datasets are the multi-dimensional equivalent of a Pandas dataframe\n"
   ]
  }
 ],
 "metadata": {
  "kernelspec": {
   "display_name": "Python 3",
   "language": "python",
   "name": "python3"
  },
  "language_info": {
   "codemirror_mode": {
    "name": "ipython",
    "version": 3
   },
   "file_extension": ".py",
   "mimetype": "text/x-python",
   "name": "python",
   "nbconvert_exporter": "python",
   "pygments_lexer": "ipython3",
   "version": "3.6.2"
  },
  "toc": {
   "colors": {
    "hover_highlight": "#DAA520",
    "navigate_num": "#000000",
    "navigate_text": "#333333",
    "running_highlight": "#FF0000",
    "selected_highlight": "#FFD700",
    "sidebar_border": "#EEEEEE",
    "wrapper_background": "#FFFFFF"
   },
   "moveMenuLeft": true,
   "nav_menu": {
    "height": "228px",
    "width": "252px"
   },
   "navigate_menu": true,
   "number_sections": false,
   "sideBar": true,
   "threshold": 4,
   "toc_cell": true,
   "toc_section_display": "block",
   "toc_window_display": true,
   "widenNotebook": false
  }
 },
 "nbformat": 4,
 "nbformat_minor": 2
}
