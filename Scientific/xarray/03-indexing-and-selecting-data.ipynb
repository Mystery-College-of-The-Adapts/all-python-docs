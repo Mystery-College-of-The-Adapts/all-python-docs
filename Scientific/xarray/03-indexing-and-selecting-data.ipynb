{
 "cells": [
  {
   "cell_type": "markdown",
   "metadata": {
    "collapsed": true
   },
   "source": [
    "Last Updated: 08-03-2017"
   ]
  },
  {
   "cell_type": "markdown",
   "metadata": {
    "toc": "true"
   },
   "source": [
    "# Table of Contents\n",
    " <p><div class=\"lev1 toc-item\"><a href=\"#Indexing-and-Selecting-Data\" data-toc-modified-id=\"Indexing-and-Selecting-Data-1\"><span class=\"toc-item-num\">1&nbsp;&nbsp;</span>Indexing and Selecting Data</a></div><div class=\"lev2 toc-item\"><a href=\"#Positional-indexing\" data-toc-modified-id=\"Positional-indexing-11\"><span class=\"toc-item-num\">1.1&nbsp;&nbsp;</span>Positional indexing</a></div><div class=\"lev2 toc-item\"><a href=\"#Indexing-with-labeled-dimensions\" data-toc-modified-id=\"Indexing-with-labeled-dimensions-12\"><span class=\"toc-item-num\">1.2&nbsp;&nbsp;</span>Indexing with labeled dimensions</a></div><div class=\"lev3 toc-item\"><a href=\"#Use-a-dictionary-as-the-argument-for-array-positional-or-label-based-array-indexing\" data-toc-modified-id=\"Use-a-dictionary-as-the-argument-for-array-positional-or-label-based-array-indexing-121\"><span class=\"toc-item-num\">1.2.1&nbsp;&nbsp;</span>Use a dictionary as the argument for array positional or label based array indexing</a></div><div class=\"lev3 toc-item\"><a href=\"#Use-the-sel()-and-isel()-convenience-methods\" data-toc-modified-id=\"Use-the-sel()-and-isel()-convenience-methods-122\"><span class=\"toc-item-num\">1.2.2&nbsp;&nbsp;</span>Use the <code>sel()</code> and <code>isel()</code> convenience methods</a></div><div class=\"lev2 toc-item\"><a href=\"#Pointwise-indexing\" data-toc-modified-id=\"Pointwise-indexing-13\"><span class=\"toc-item-num\">1.3&nbsp;&nbsp;</span>Pointwise indexing</a></div><div class=\"lev2 toc-item\"><a href=\"#Dataset-indexing\" data-toc-modified-id=\"Dataset-indexing-14\"><span class=\"toc-item-num\">1.4&nbsp;&nbsp;</span>Dataset indexing</a></div><div class=\"lev2 toc-item\"><a href=\"#Dropping-Labels\" data-toc-modified-id=\"Dropping-Labels-15\"><span class=\"toc-item-num\">1.5&nbsp;&nbsp;</span>Dropping Labels</a></div><div class=\"lev2 toc-item\"><a href=\"#Nearest-neighbor-lookups\" data-toc-modified-id=\"Nearest-neighbor-lookups-16\"><span class=\"toc-item-num\">1.6&nbsp;&nbsp;</span>Nearest neighbor lookups</a></div><div class=\"lev2 toc-item\"><a href=\"#Masking-with-where\" data-toc-modified-id=\"Masking-with-where-17\"><span class=\"toc-item-num\">1.7&nbsp;&nbsp;</span>Masking with <code>where</code></a></div><div class=\"lev2 toc-item\"><a href=\"#Multi-level-indexing\" data-toc-modified-id=\"Multi-level-indexing-18\"><span class=\"toc-item-num\">1.8&nbsp;&nbsp;</span>Multi-level indexing</a></div><div class=\"lev2 toc-item\"><a href=\"#Orthogonal(outer)-vs.-vectorized-indexing\" data-toc-modified-id=\"Orthogonal(outer)-vs.-vectorized-indexing-19\"><span class=\"toc-item-num\">1.9&nbsp;&nbsp;</span>Orthogonal(outer) vs. vectorized indexing</a></div><div class=\"lev2 toc-item\"><a href=\"#Key-Points\" data-toc-modified-id=\"Key-Points-110\"><span class=\"toc-item-num\">1.10&nbsp;&nbsp;</span>Key Points</a></div>"
   ]
  },
  {
   "cell_type": "code",
   "execution_count": 1,
   "metadata": {
    "collapsed": true
   },
   "outputs": [],
   "source": [
    "import xarray as xr\n",
    "import numpy as np \n",
    "import pandas as pd"
   ]
  },
  {
   "cell_type": "code",
   "execution_count": 2,
   "metadata": {},
   "outputs": [
    {
     "name": "stdout",
     "output_type": "stream",
     "text": [
      "CPU times: user 48 ms, sys: 0 ns, total: 48 ms\n",
      "Wall time: 48.3 ms\n"
     ]
    }
   ],
   "source": [
    "%time ds = xr.open_dataset('/home/abanihi/Documents/climate-data/ERM/t85.an.sfc/e4moda.an.sfc.t85.sst.1957-2002.nc')"
   ]
  },
  {
   "cell_type": "markdown",
   "metadata": {},
   "source": [
    "# Indexing and Selecting Data"
   ]
  },
  {
   "cell_type": "markdown",
   "metadata": {},
   "source": [
    "\n",
    "Similarly to pandas objects, xarray objects support both integer and\n",
    "label based lookups along each dimension. However, xarray objects also\n",
    "have named dimensions, so you can optionally use dimension names instead\n",
    "of relying on the positional ordering of dimensions.\n",
    "\n",
    "Thus in total, xarray supports four different kinds of indexing, as\n",
    "described below and summarized in this table:\n"
   ]
  },
  {
   "cell_type": "markdown",
   "metadata": {},
   "source": [
    "| **Dimension lookup** | **Index lookup** | **```DataArray```**                                               | **```Dataset```**                                               |\n",
    "|----------------------|------------------|-------------------------------------------------------------------|-----------------------------------------------------------------|\n",
    "| Positional           | By integer       | ```arr[:, 0]```                                                   | *not available*                                                 |\n",
    "| Positional           | By label         | ``arr.loc[:, 'IA']``                                              | *not available*                                                 |\n",
    "| By name              | By integer       | ```ds.isel(space=0)``` or  <br> ```arr[dict(space=0)]```          | ```ds.isel(space=0)``` or <br> ```ds[dict(space=0)]```          |\n",
    "| By name              | By label         | ```arr.sel(space='IA')``` or <br> ```arr.loc[dict(space='IA')]``` | ```ds.sel(space='IA')``` or <br> ```ds.loc[dict(space='IA')]``` |"
   ]
  },
  {
   "cell_type": "markdown",
   "metadata": {},
   "source": [
    "## Positional indexing"
   ]
  },
  {
   "cell_type": "markdown",
   "metadata": {},
   "source": [
    "Indexing a ```xarray.DataArray``` directly works (mostly) just like it\n",
    "does for numpy arrays, except that the returned object is always another\n",
    "DataArray:\n"
   ]
  },
  {
   "cell_type": "code",
   "execution_count": 3,
   "metadata": {},
   "outputs": [
    {
     "data": {
      "text/plain": [
       "<xarray.DataArray 'SST' (time: 540, lat: 128, lon: 256)>\n",
       "[17694720 values with dtype=float64]\n",
       "Coordinates:\n",
       "  * time     (time) datetime64[ns] 1957-09-01 1957-10-01 1957-11-01 ...\n",
       "  * lat      (lat) float32 -88.9277 -87.5387 -86.1415 -84.7424 -83.3426 ...\n",
       "  * lon      (lon) float32 0.0 1.406 2.812 4.218 5.624 7.03 8.436 9.842 ...\n",
       "Attributes:\n",
       "    units:      K\n",
       "    long_name:  Sea surface temperature"
      ]
     },
     "execution_count": 3,
     "metadata": {},
     "output_type": "execute_result"
    }
   ],
   "source": [
    "sst = ds['SST']\n",
    "sst"
   ]
  },
  {
   "cell_type": "code",
   "execution_count": 4,
   "metadata": {},
   "outputs": [
    {
     "data": {
      "text/plain": [
       "<xarray.DataArray 'SST' (time: 2, lat: 128, lon: 256)>\n",
       "array([[[        nan,         nan, ...,         nan,         nan],\n",
       "        [        nan,         nan, ...,         nan,         nan],\n",
       "        ..., \n",
       "        [ 271.460205,  271.460205, ...,  271.460205,  271.460205],\n",
       "        [ 271.460205,  271.460205, ...,  271.460205,  271.460205]],\n",
       "\n",
       "       [[        nan,         nan, ...,         nan,         nan],\n",
       "        [        nan,         nan, ...,         nan,         nan],\n",
       "        ..., \n",
       "        [ 271.460693,  271.460693, ...,  271.460693,  271.460693],\n",
       "        [ 271.460693,  271.460693, ...,  271.460693,  271.460693]]])\n",
       "Coordinates:\n",
       "  * time     (time) datetime64[ns] 1957-09-01 1957-10-01\n",
       "  * lat      (lat) float32 -88.9277 -87.5387 -86.1415 -84.7424 -83.3426 ...\n",
       "  * lon      (lon) float32 0.0 1.406 2.812 4.218 5.624 7.03 8.436 9.842 ...\n",
       "Attributes:\n",
       "    units:      K\n",
       "    long_name:  Sea surface temperature"
      ]
     },
     "execution_count": 4,
     "metadata": {},
     "output_type": "execute_result"
    }
   ],
   "source": [
    "sst[:2]"
   ]
  },
  {
   "cell_type": "code",
   "execution_count": 5,
   "metadata": {},
   "outputs": [
    {
     "data": {
      "text/plain": [
       "<xarray.DataArray 'SST' (time: 540, lat: 2, lon: 256)>\n",
       "[276480 values with dtype=float64]\n",
       "Coordinates:\n",
       "  * time     (time) datetime64[ns] 1957-09-01 1957-10-01 1957-11-01 ...\n",
       "  * lat      (lat) float32 -88.9277 -88.9277\n",
       "  * lon      (lon) float32 0.0 1.406 2.812 4.218 5.624 7.03 8.436 9.842 ...\n",
       "Attributes:\n",
       "    units:      K\n",
       "    long_name:  Sea surface temperature"
      ]
     },
     "execution_count": 5,
     "metadata": {},
     "output_type": "execute_result"
    }
   ],
   "source": [
    "sst[:, [0, 0]]"
   ]
  },
  {
   "cell_type": "code",
   "execution_count": 6,
   "metadata": {},
   "outputs": [
    {
     "data": {
      "text/plain": [
       "<xarray.DataArray 'SST' ()>\n",
       "array(nan)\n",
       "Coordinates:\n",
       "    time     datetime64[ns] 1957-09-01\n",
       "    lat      float32 -88.9277\n",
       "    lon      float32 0.0\n",
       "Attributes:\n",
       "    units:      K\n",
       "    long_name:  Sea surface temperature"
      ]
     },
     "execution_count": 6,
     "metadata": {},
     "output_type": "execute_result"
    }
   ],
   "source": [
    "sst[0,0,0]"
   ]
  },
  {
   "cell_type": "code",
   "execution_count": 7,
   "metadata": {},
   "outputs": [
    {
     "data": {
      "text/plain": [
       "<xarray.DataArray 'SST' (lat: 128, lon: 256)>\n",
       "array([[        nan,         nan,         nan, ...,         nan,         nan,\n",
       "                nan],\n",
       "       [        nan,         nan,         nan, ...,         nan,         nan,\n",
       "                nan],\n",
       "       [        nan,         nan,         nan, ...,         nan,         nan,\n",
       "                nan],\n",
       "       ..., \n",
       "       [ 271.460205,  271.460205,  271.460205, ...,  271.460205,  271.460205,\n",
       "         271.460205],\n",
       "       [ 271.460205,  271.460205,  271.460205, ...,  271.460205,  271.460205,\n",
       "         271.460205],\n",
       "       [ 271.460205,  271.460205,  271.460205, ...,  271.460205,  271.460205,\n",
       "         271.460205]])\n",
       "Coordinates:\n",
       "    time     datetime64[ns] 1957-09-01\n",
       "  * lat      (lat) float32 -88.9277 -87.5387 -86.1415 -84.7424 -83.3426 ...\n",
       "  * lon      (lon) float32 0.0 1.406 2.812 4.218 5.624 7.03 8.436 9.842 ...\n",
       "Attributes:\n",
       "    units:      K\n",
       "    long_name:  Sea surface temperature"
      ]
     },
     "execution_count": 7,
     "metadata": {},
     "output_type": "execute_result"
    }
   ],
   "source": [
    "sst[0, :, :]"
   ]
  },
  {
   "cell_type": "markdown",
   "metadata": {},
   "source": [
    "- This method of handling arrays should be familiar to anyone who has worked with arrays in MATLAB or NumPy. One challenge with this approach: it is not simple to associate an integer index position with something meaningful in our data. For example, we would have to write some function to map a specific date in the time dimension to its associated integer. Therefore, xarray lets us perform positional indexing using labels instead of integers:"
   ]
  },
  {
   "cell_type": "code",
   "execution_count": 8,
   "metadata": {},
   "outputs": [
    {
     "data": {
      "text/plain": [
       "<xarray.DataArray 'SST' (lat: 128, lon: 256)>\n",
       "array([[        nan,         nan,         nan, ...,         nan,         nan,\n",
       "                nan],\n",
       "       [        nan,         nan,         nan, ...,         nan,         nan,\n",
       "                nan],\n",
       "       [        nan,         nan,         nan, ...,         nan,         nan,\n",
       "                nan],\n",
       "       ..., \n",
       "       [ 271.460205,  271.460205,  271.460205, ...,  271.460205,  271.460205,\n",
       "         271.460205],\n",
       "       [ 271.460205,  271.460205,  271.460205, ...,  271.460205,  271.460205,\n",
       "         271.460205],\n",
       "       [ 271.460205,  271.460205,  271.460205, ...,  271.460205,  271.460205,\n",
       "         271.460205]])\n",
       "Coordinates:\n",
       "    time     datetime64[ns] 1957-09-01\n",
       "  * lat      (lat) float32 -88.9277 -87.5387 -86.1415 -84.7424 -83.3426 ...\n",
       "  * lon      (lon) float32 0.0 1.406 2.812 4.218 5.624 7.03 8.436 9.842 ...\n",
       "Attributes:\n",
       "    units:      K\n",
       "    long_name:  Sea surface temperature"
      ]
     },
     "execution_count": 8,
     "metadata": {},
     "output_type": "execute_result"
    }
   ],
   "source": [
    "sst.loc['1957-09-01', :, :]"
   ]
  },
  {
   "cell_type": "markdown",
   "metadata": {},
   "source": [
    "## Indexing with labeled dimensions"
   ]
  },
  {
   "cell_type": "markdown",
   "metadata": {},
   "source": [
    "- This is great, but we still need to be keeping track of the fact that our index position 1 is the time dimension, position 2 is latitude, etc. So rather than looking up our dimension by position, xarray enables us to use the dimension name instead:"
   ]
  },
  {
   "cell_type": "markdown",
   "metadata": {},
   "source": [
    "###  Use a dictionary as the argument for array positional or label based array indexing"
   ]
  },
  {
   "cell_type": "code",
   "execution_count": 9,
   "metadata": {},
   "outputs": [
    {
     "data": {
      "text/plain": [
       "<xarray.DataArray 'SST' (lat: 2, lon: 256)>\n",
       "array([[ nan,  nan,  nan, ...,  nan,  nan,  nan],\n",
       "       [ nan,  nan,  nan, ...,  nan,  nan,  nan]])\n",
       "Coordinates:\n",
       "    time     datetime64[ns] 1957-09-01\n",
       "  * lat      (lat) float32 -88.9277 -87.5387\n",
       "  * lon      (lon) float32 0.0 1.406 2.812 4.218 5.624 7.03 8.436 9.842 ...\n",
       "Attributes:\n",
       "    units:      K\n",
       "    long_name:  Sea surface temperature"
      ]
     },
     "execution_count": 9,
     "metadata": {},
     "output_type": "execute_result"
    }
   ],
   "source": [
    "# index by integer array indices\n",
    "sst[dict(time=0, lat=slice(None, 2), lon=slice(None))]"
   ]
  },
  {
   "cell_type": "code",
   "execution_count": 10,
   "metadata": {},
   "outputs": [
    {
     "data": {
      "text/plain": [
       "<xarray.DataArray 'SST' (time: 4, lat: 128, lon: 256)>\n",
       "[131072 values with dtype=float64]\n",
       "Coordinates:\n",
       "  * time     (time) datetime64[ns] 1957-09-01 1957-10-01 1957-11-01 1957-12-01\n",
       "  * lat      (lat) float32 -88.9277 -87.5387 -86.1415 -84.7424 -83.3426 ...\n",
       "  * lon      (lon) float32 0.0 1.406 2.812 4.218 5.624 7.03 8.436 9.842 ...\n",
       "Attributes:\n",
       "    units:      K\n",
       "    long_name:  Sea surface temperature"
      ]
     },
     "execution_count": 10,
     "metadata": {},
     "output_type": "execute_result"
    }
   ],
   "source": [
    "# index by dimension coordinate labels\n",
    "sst.loc[dict(time=slice('1957-09-01', '1957-12-01'))]"
   ]
  },
  {
   "cell_type": "markdown",
   "metadata": {},
   "source": [
    "### Use the ```sel()``` and ```isel()``` convenience methods"
   ]
  },
  {
   "cell_type": "code",
   "execution_count": 11,
   "metadata": {},
   "outputs": [
    {
     "data": {
      "text/plain": [
       "<xarray.DataArray 'SST' (time: 1, lat: 10, lon: 100)>\n",
       "array([[[ nan,  nan, ...,  nan,  nan],\n",
       "        [ nan,  nan, ...,  nan,  nan],\n",
       "        ..., \n",
       "        [ nan,  nan, ...,  nan,  nan],\n",
       "        [ nan,  nan, ...,  nan,  nan]]])\n",
       "Coordinates:\n",
       "  * time     (time) datetime64[ns] 1957-09-01\n",
       "  * lat      (lat) float32 -88.9277 -87.5387 -86.1415 -84.7424 -83.3426 ...\n",
       "  * lon      (lon) float32 0.0 1.406 2.812 4.218 5.624 7.03 8.436 9.842 ...\n",
       "Attributes:\n",
       "    units:      K\n",
       "    long_name:  Sea surface temperature"
      ]
     },
     "execution_count": 11,
     "metadata": {},
     "output_type": "execute_result"
    }
   ],
   "source": [
    "# index by integer array indices\n",
    "sst.isel(time=slice(0, 1), lat=slice(None, 10), lon=slice(None, 100))"
   ]
  },
  {
   "cell_type": "code",
   "execution_count": 12,
   "metadata": {},
   "outputs": [
    {
     "data": {
      "text/plain": [
       "<xarray.DataArray 'SST' (time: 2, lat: 128, lon: 256)>\n",
       "array([[[        nan,         nan, ...,         nan,         nan],\n",
       "        [        nan,         nan, ...,         nan,         nan],\n",
       "        ..., \n",
       "        [ 271.460205,  271.460205, ...,  271.460205,  271.460205],\n",
       "        [ 271.460205,  271.460205, ...,  271.460205,  271.460205]],\n",
       "\n",
       "       [[        nan,         nan, ...,         nan,         nan],\n",
       "        [        nan,         nan, ...,         nan,         nan],\n",
       "        ..., \n",
       "        [ 271.460693,  271.460693, ...,  271.460693,  271.460693],\n",
       "        [ 271.460693,  271.460693, ...,  271.460693,  271.460693]]])\n",
       "Coordinates:\n",
       "  * time     (time) datetime64[ns] 1957-09-01 1957-10-01\n",
       "  * lat      (lat) float32 -88.9277 -87.5387 -86.1415 -84.7424 -83.3426 ...\n",
       "  * lon      (lon) float32 0.0 1.406 2.812 4.218 5.624 7.03 8.436 9.842 ...\n",
       "Attributes:\n",
       "    units:      K\n",
       "    long_name:  Sea surface temperature"
      ]
     },
     "execution_count": 12,
     "metadata": {},
     "output_type": "execute_result"
    }
   ],
   "source": [
    "# index by dimension coordinate labels\n",
    "sst.sel(time=slice('1957-09-01', '1957-10-01'))"
   ]
  },
  {
   "cell_type": "markdown",
   "metadata": {},
   "source": [
    "## Pointwise indexing\n"
   ]
  },
  {
   "cell_type": "markdown",
   "metadata": {},
   "source": [
    "xarray pointwise indexing supports the indexing along multiple labeled dimensions using list-like objects. While ```isel()``` performs orthogonal indexing, the ```isel_points()``` method provides similar numpy indexing behavior as if you were using multiple lists to index an array (e.g. ```arr[[0, 1], [0, 1]]``` ):"
   ]
  },
  {
   "cell_type": "code",
   "execution_count": 13,
   "metadata": {},
   "outputs": [
    {
     "data": {
      "text/plain": [
       "<xarray.DataArray 'SST' (points: 3, lon: 256)>\n",
       "array([[ nan,  nan,  nan, ...,  nan,  nan,  nan],\n",
       "       [ nan,  nan,  nan, ...,  nan,  nan,  nan],\n",
       "       [ nan,  nan,  nan, ...,  nan,  nan,  nan]])\n",
       "Coordinates:\n",
       "    time     (points) datetime64[ns] 1957-09-01 1957-12-01 1958-07-01\n",
       "    lat      (points) float32 -88.9277 -87.5387 -80.5421\n",
       "  * lon      (lon) float32 0.0 1.406 2.812 4.218 5.624 7.03 8.436 9.842 ...\n",
       "Dimensions without coordinates: points\n",
       "Attributes:\n",
       "    units:      K\n",
       "    long_name:  Sea surface temperature"
      ]
     },
     "execution_count": 13,
     "metadata": {},
     "output_type": "execute_result"
    }
   ],
   "source": [
    "# index by integer array indices\n",
    "sst.isel_points(time=[0, 3, 10], lat=[0, 1, 6])"
   ]
  },
  {
   "cell_type": "markdown",
   "metadata": {},
   "source": [
    "There is also ```sel_points()```, which analogously allows you to do point-wise indexing by label:"
   ]
  },
  {
   "cell_type": "code",
   "execution_count": 14,
   "metadata": {},
   "outputs": [
    {
     "data": {
      "text/plain": [
       "DatetimeIndex(['1957-09-01', '1957-10-01', '1957-11-01'], dtype='datetime64[ns]', freq=None)"
      ]
     },
     "execution_count": 14,
     "metadata": {},
     "output_type": "execute_result"
    }
   ],
   "source": [
    "times = pd.to_datetime(['1957-09-01', '1957-10-01', '1957-11-01'])\n",
    "times"
   ]
  },
  {
   "cell_type": "code",
   "execution_count": 15,
   "metadata": {},
   "outputs": [
    {
     "data": {
      "text/plain": [
       "<xarray.DataArray 'SST' (points: 3, lon: 256, lat: 128)>\n",
       "array([[[        nan,         nan, ...,  271.460205,  271.460205],\n",
       "        [        nan,         nan, ...,  271.460205,  271.460205],\n",
       "        ..., \n",
       "        [        nan,         nan, ...,  271.460205,  271.460205],\n",
       "        [        nan,         nan, ...,  271.460205,  271.460205]],\n",
       "\n",
       "       [[        nan,         nan, ...,  271.460693,  271.460693],\n",
       "        [        nan,         nan, ...,  271.460693,  271.460693],\n",
       "        ..., \n",
       "        [        nan,         nan, ...,  271.460693,  271.460693],\n",
       "        [        nan,         nan, ...,  271.460693,  271.460693]],\n",
       "\n",
       "       [[        nan,         nan, ...,  271.460449,  271.460449],\n",
       "        [        nan,         nan, ...,  271.460449,  271.460449],\n",
       "        ..., \n",
       "        [        nan,         nan, ...,  271.460449,  271.460449],\n",
       "        [        nan,         nan, ...,  271.460449,  271.460449]]])\n",
       "Coordinates:\n",
       "    time     (points) datetime64[ns] 1957-09-01 1957-10-01 1957-11-01\n",
       "  * lat      (lat) float32 -88.9277 -87.5387 -86.1415 -84.7424 -83.3426 ...\n",
       "  * lon      (lon) float32 0.0 1.406 2.812 4.218 5.624 7.03 8.436 9.842 ...\n",
       "Dimensions without coordinates: points\n",
       "Attributes:\n",
       "    units:      K\n",
       "    long_name:  Sea surface temperature"
      ]
     },
     "execution_count": 15,
     "metadata": {},
     "output_type": "execute_result"
    }
   ],
   "source": [
    "sst.sel_points(time=times)"
   ]
  },
  {
   "cell_type": "markdown",
   "metadata": {},
   "source": [
    "The equivalent pandas method to ```sel_points``` is ```lookup()```."
   ]
  },
  {
   "cell_type": "markdown",
   "metadata": {},
   "source": [
    "## Dataset indexing"
   ]
  },
  {
   "cell_type": "markdown",
   "metadata": {},
   "source": [
    "We can also use these methods to index all variables in a dataset simultaneously, returning a new dataset:"
   ]
  },
  {
   "cell_type": "code",
   "execution_count": 16,
   "metadata": {},
   "outputs": [
    {
     "data": {
      "text/plain": [
       "<xarray.Dataset>\n",
       "Dimensions:     (lat: 1, lon: 1, time: 1)\n",
       "Coordinates:\n",
       "  * time        (time) datetime64[ns] 1957-09-01\n",
       "  * lat         (lat) float32 -88.9277\n",
       "  * lon         (lon) float32 0.0\n",
       "Data variables:\n",
       "    gw          (lat) float32 0.000449381\n",
       "    date        (time) int32 19570901\n",
       "    datesec     (time) int32 0\n",
       "    yyyymmddhh  (time) int32 1957090100\n",
       "    SST         (time, lat, lon) float64 nan\n",
       "Attributes:\n",
       "    title:                     \\nERA40 T85 Surface Analysis: created at NCAR\n",
       "    temporal_span:             \\nThe entire ERA40 archive spans 45 years: Sep...\n",
       "    source_original:           \\nEuropean Center for Medium-Range Weather For...\n",
       "    story:                     \\nThis dataset is a netCDF version of ds126.0 ...\n",
       "    source_NCAR:               \\nData Support Section                        ...\n",
       "    source_format:             \\nThe original ECMWF and the derived T85 are i...\n",
       "    source_file:               \\nMSS: /DSS/U82386\n",
       "    source_availability:       \\nThe ERA-40 data are available for non-commer...\n",
       "    netCDF_creation:           \\nClimate Analysis Section                    ...\n",
       "    netCDF_creation_software:  \\nNCAR Command Language (NCL)                 ...\n",
       "    netCDF_creation_date:      \\nThu Mar 31 21:07:32 MST 2005\n",
       "    Conventions:               CF\n",
       "    history:                   Fri Apr  1 11:51:15 2005: ncrcat /era40/ds126....\n",
       "    nco_openmp_thread_number:  1"
      ]
     },
     "execution_count": 16,
     "metadata": {},
     "output_type": "execute_result"
    }
   ],
   "source": [
    "ds.isel(time=slice(0, 1), lat=slice(0, 1), lon=slice(0, 1))"
   ]
  },
  {
   "cell_type": "code",
   "execution_count": 17,
   "metadata": {},
   "outputs": [
    {
     "data": {
      "text/plain": [
       "<xarray.Dataset>\n",
       "Dimensions:     (lat: 128, lon: 256)\n",
       "Coordinates:\n",
       "    time        datetime64[ns] 1957-09-01\n",
       "  * lat         (lat) float32 -88.9277 -87.5387 -86.1415 -84.7424 -83.3426 ...\n",
       "  * lon         (lon) float32 0.0 1.406 2.812 4.218 5.624 7.03 8.436 9.842 ...\n",
       "Data variables:\n",
       "    gw          (lat) float32 0.000449381 0.00104581 0.0016425 0.00223829 ...\n",
       "    date        int32 19570901\n",
       "    datesec     int32 0\n",
       "    yyyymmddhh  int32 1957090100\n",
       "    SST         (lat, lon) float64 nan nan nan nan nan nan nan nan nan nan ...\n",
       "Attributes:\n",
       "    title:                     \\nERA40 T85 Surface Analysis: created at NCAR\n",
       "    temporal_span:             \\nThe entire ERA40 archive spans 45 years: Sep...\n",
       "    source_original:           \\nEuropean Center for Medium-Range Weather For...\n",
       "    story:                     \\nThis dataset is a netCDF version of ds126.0 ...\n",
       "    source_NCAR:               \\nData Support Section                        ...\n",
       "    source_format:             \\nThe original ECMWF and the derived T85 are i...\n",
       "    source_file:               \\nMSS: /DSS/U82386\n",
       "    source_availability:       \\nThe ERA-40 data are available for non-commer...\n",
       "    netCDF_creation:           \\nClimate Analysis Section                    ...\n",
       "    netCDF_creation_software:  \\nNCAR Command Language (NCL)                 ...\n",
       "    netCDF_creation_date:      \\nThu Mar 31 21:07:32 MST 2005\n",
       "    Conventions:               CF\n",
       "    history:                   Fri Apr  1 11:51:15 2005: ncrcat /era40/ds126....\n",
       "    nco_openmp_thread_number:  1"
      ]
     },
     "execution_count": 17,
     "metadata": {},
     "output_type": "execute_result"
    }
   ],
   "source": [
    "ds.sel(time='1957-09-01')"
   ]
  },
  {
   "cell_type": "code",
   "execution_count": 18,
   "metadata": {},
   "outputs": [
    {
     "data": {
      "text/plain": [
       "<xarray.Dataset>\n",
       "Dimensions:     (points: 3)\n",
       "Coordinates:\n",
       "    time        (points) datetime64[ns] 1957-11-01 1957-12-01 1958-02-01\n",
       "    lat         (points) float32 -88.9277 -84.7424 -81.9425\n",
       "    lon         (points) float32 32.338 63.27 95.608\n",
       "Dimensions without coordinates: points\n",
       "Data variables:\n",
       "    gw          (points) float32 0.000449381 0.00223829 0.00342553\n",
       "    date        (points) int32 19571101 19571201 19580201\n",
       "    datesec     (points) int32 0 0 0\n",
       "    yyyymmddhh  (points) int32 1957110100 1957120100 1958020100\n",
       "    SST         (points) float64 nan nan nan\n",
       "Attributes:\n",
       "    title:                     \\nERA40 T85 Surface Analysis: created at NCAR\n",
       "    temporal_span:             \\nThe entire ERA40 archive spans 45 years: Sep...\n",
       "    source_original:           \\nEuropean Center for Medium-Range Weather For...\n",
       "    story:                     \\nThis dataset is a netCDF version of ds126.0 ...\n",
       "    source_NCAR:               \\nData Support Section                        ...\n",
       "    source_format:             \\nThe original ECMWF and the derived T85 are i...\n",
       "    source_file:               \\nMSS: /DSS/U82386\n",
       "    source_availability:       \\nThe ERA-40 data are available for non-commer...\n",
       "    netCDF_creation:           \\nClimate Analysis Section                    ...\n",
       "    netCDF_creation_software:  \\nNCAR Command Language (NCL)                 ...\n",
       "    netCDF_creation_date:      \\nThu Mar 31 21:07:32 MST 2005\n",
       "    Conventions:               CF\n",
       "    history:                   Fri Apr  1 11:51:15 2005: ncrcat /era40/ds126....\n",
       "    nco_openmp_thread_number:  1"
      ]
     },
     "execution_count": 18,
     "metadata": {},
     "output_type": "execute_result"
    }
   ],
   "source": [
    "ds.isel_points(time=[2, 3, 5], lat=[0, 3, 5], lon=[23, 45, 68], dim='points')"
   ]
  },
  {
   "cell_type": "markdown",
   "metadata": {},
   "source": [
    "Positional indexing on a dataset is not supported because the ordering of dimensions in a dataset is somewhat ambiguous (it can vary between different arrays). However, you can do normal indexing with labeled dimensions:"
   ]
  },
  {
   "cell_type": "code",
   "execution_count": 19,
   "metadata": {},
   "outputs": [
    {
     "data": {
      "text/plain": [
       "<xarray.Dataset>\n",
       "Dimensions:     (lat: 5, lon: 3, time: 1)\n",
       "Coordinates:\n",
       "  * time        (time) datetime64[ns] 1957-09-01\n",
       "  * lat         (lat) float32 -88.9277 -87.5387 -86.1415 -84.7424 -83.3426\n",
       "  * lon         (lon) float32 0.0 1.406 2.812\n",
       "Data variables:\n",
       "    gw          (lat) float32 0.000449381 0.00104581 0.0016425 0.00223829 ...\n",
       "    date        (time) int32 19570901\n",
       "    datesec     (time) int32 0\n",
       "    yyyymmddhh  (time) int32 1957090100\n",
       "    SST         (time, lat, lon) float64 nan nan nan nan nan nan nan nan nan ...\n",
       "Attributes:\n",
       "    title:                     \\nERA40 T85 Surface Analysis: created at NCAR\n",
       "    temporal_span:             \\nThe entire ERA40 archive spans 45 years: Sep...\n",
       "    source_original:           \\nEuropean Center for Medium-Range Weather For...\n",
       "    story:                     \\nThis dataset is a netCDF version of ds126.0 ...\n",
       "    source_NCAR:               \\nData Support Section                        ...\n",
       "    source_format:             \\nThe original ECMWF and the derived T85 are i...\n",
       "    source_file:               \\nMSS: /DSS/U82386\n",
       "    source_availability:       \\nThe ERA-40 data are available for non-commer...\n",
       "    netCDF_creation:           \\nClimate Analysis Section                    ...\n",
       "    netCDF_creation_software:  \\nNCAR Command Language (NCL)                 ...\n",
       "    netCDF_creation_date:      \\nThu Mar 31 21:07:32 MST 2005\n",
       "    Conventions:               CF\n",
       "    history:                   Fri Apr  1 11:51:15 2005: ncrcat /era40/ds126....\n",
       "    nco_openmp_thread_number:  1"
      ]
     },
     "execution_count": 19,
     "metadata": {},
     "output_type": "execute_result"
    }
   ],
   "source": [
    "ds[dict(time=slice(0, 1), lat=slice(0, 5), lon=slice(0, 3))]"
   ]
  },
  {
   "cell_type": "code",
   "execution_count": 20,
   "metadata": {},
   "outputs": [
    {
     "data": {
      "text/plain": [
       "<xarray.Dataset>\n",
       "Dimensions:     (lat: 128, lon: 256)\n",
       "Coordinates:\n",
       "    time        datetime64[ns] 1957-09-01\n",
       "  * lat         (lat) float32 -88.9277 -87.5387 -86.1415 -84.7424 -83.3426 ...\n",
       "  * lon         (lon) float32 0.0 1.406 2.812 4.218 5.624 7.03 8.436 9.842 ...\n",
       "Data variables:\n",
       "    gw          (lat) float32 0.000449381 0.00104581 0.0016425 0.00223829 ...\n",
       "    date        int32 19570901\n",
       "    datesec     int32 0\n",
       "    yyyymmddhh  int32 1957090100\n",
       "    SST         (lat, lon) float64 nan nan nan nan nan nan nan nan nan nan ...\n",
       "Attributes:\n",
       "    title:                     \\nERA40 T85 Surface Analysis: created at NCAR\n",
       "    temporal_span:             \\nThe entire ERA40 archive spans 45 years: Sep...\n",
       "    source_original:           \\nEuropean Center for Medium-Range Weather For...\n",
       "    story:                     \\nThis dataset is a netCDF version of ds126.0 ...\n",
       "    source_NCAR:               \\nData Support Section                        ...\n",
       "    source_format:             \\nThe original ECMWF and the derived T85 are i...\n",
       "    source_file:               \\nMSS: /DSS/U82386\n",
       "    source_availability:       \\nThe ERA-40 data are available for non-commer...\n",
       "    netCDF_creation:           \\nClimate Analysis Section                    ...\n",
       "    netCDF_creation_software:  \\nNCAR Command Language (NCL)                 ...\n",
       "    netCDF_creation_date:      \\nThu Mar 31 21:07:32 MST 2005\n",
       "    Conventions:               CF\n",
       "    history:                   Fri Apr  1 11:51:15 2005: ncrcat /era40/ds126....\n",
       "    nco_openmp_thread_number:  1"
      ]
     },
     "execution_count": 20,
     "metadata": {},
     "output_type": "execute_result"
    }
   ],
   "source": [
    "ds.loc[dict(time='1957-09-01')]"
   ]
  },
  {
   "cell_type": "markdown",
   "metadata": {},
   "source": [
    "## Dropping Labels"
   ]
  },
  {
   "cell_type": "markdown",
   "metadata": {},
   "source": [
    "The ```drop()``` method returns a new object with the listed index labels along a dimension dropped:"
   ]
  },
  {
   "cell_type": "code",
   "execution_count": 21,
   "metadata": {},
   "outputs": [
    {
     "data": {
      "text/plain": [
       "<xarray.Dataset>\n",
       "Dimensions:     (lat: 128, lon: 255, time: 540)\n",
       "Coordinates:\n",
       "  * time        (time) datetime64[ns] 1957-09-01 1957-10-01 1957-11-01 ...\n",
       "  * lat         (lat) float32 -88.9277 -87.5387 -86.1415 -84.7424 -83.3426 ...\n",
       "  * lon         (lon) float32 1.406 2.812 4.218 5.624 7.03 8.436 9.842 ...\n",
       "Data variables:\n",
       "    gw          (lat) float32 0.000449381 0.00104581 0.0016425 0.00223829 ...\n",
       "    date        (time) int32 19570901 19571001 19571101 19571201 19580101 ...\n",
       "    datesec     (time) int32 0 0 0 0 0 0 0 0 0 0 0 0 0 0 0 0 0 0 0 0 0 0 0 0 ...\n",
       "    yyyymmddhh  (time) int32 1957090100 1957100100 1957110100 1957120100 ...\n",
       "    SST         (time, lat, lon) float64 nan nan nan nan nan nan nan nan nan ...\n",
       "Attributes:\n",
       "    title:                     \\nERA40 T85 Surface Analysis: created at NCAR\n",
       "    temporal_span:             \\nThe entire ERA40 archive spans 45 years: Sep...\n",
       "    source_original:           \\nEuropean Center for Medium-Range Weather For...\n",
       "    story:                     \\nThis dataset is a netCDF version of ds126.0 ...\n",
       "    source_NCAR:               \\nData Support Section                        ...\n",
       "    source_format:             \\nThe original ECMWF and the derived T85 are i...\n",
       "    source_file:               \\nMSS: /DSS/U82386\n",
       "    source_availability:       \\nThe ERA-40 data are available for non-commer...\n",
       "    netCDF_creation:           \\nClimate Analysis Section                    ...\n",
       "    netCDF_creation_software:  \\nNCAR Command Language (NCL)                 ...\n",
       "    netCDF_creation_date:      \\nThu Mar 31 21:07:32 MST 2005\n",
       "    Conventions:               CF\n",
       "    history:                   Fri Apr  1 11:51:15 2005: ncrcat /era40/ds126....\n",
       "    nco_openmp_thread_number:  1"
      ]
     },
     "execution_count": 21,
     "metadata": {},
     "output_type": "execute_result"
    }
   ],
   "source": [
    "ds.drop([0.0], dim='lon')"
   ]
  },
  {
   "cell_type": "markdown",
   "metadata": {},
   "source": [
    "## Nearest neighbor lookups"
   ]
  },
  {
   "cell_type": "markdown",
   "metadata": {},
   "source": [
    "The label based selection methods ```sel()```, ```reindex()``` and ```reindex_like()``` all support method and tolerance keyword argument. The method parameter allows for enabling nearest neighbor (inexact) lookups by use of the methods ```pad```, ```backfill``` or ```nearest```:"
   ]
  },
  {
   "cell_type": "code",
   "execution_count": 22,
   "metadata": {},
   "outputs": [
    {
     "data": {
      "text/plain": [
       "<xarray.Dataset>\n",
       "Dimensions:     (lat: 2, lon: 256, time: 540)\n",
       "Coordinates:\n",
       "  * time        (time) datetime64[ns] 1957-09-01 1957-10-01 1957-11-01 ...\n",
       "  * lat         (lat) float32 -88.9277 -87.5387\n",
       "  * lon         (lon) float32 0.0 1.406 2.812 4.218 5.624 7.03 8.436 9.842 ...\n",
       "Data variables:\n",
       "    gw          (lat) float32 0.000449381 0.00104581\n",
       "    date        (time) int32 19570901 19571001 19571101 19571201 19580101 ...\n",
       "    datesec     (time) int32 0 0 0 0 0 0 0 0 0 0 0 0 0 0 0 0 0 0 0 0 0 0 0 0 ...\n",
       "    yyyymmddhh  (time) int32 1957090100 1957100100 1957110100 1957120100 ...\n",
       "    SST         (time, lat, lon) float64 nan nan nan nan nan nan nan nan nan ...\n",
       "Attributes:\n",
       "    title:                     \\nERA40 T85 Surface Analysis: created at NCAR\n",
       "    temporal_span:             \\nThe entire ERA40 archive spans 45 years: Sep...\n",
       "    source_original:           \\nEuropean Center for Medium-Range Weather For...\n",
       "    story:                     \\nThis dataset is a netCDF version of ds126.0 ...\n",
       "    source_NCAR:               \\nData Support Section                        ...\n",
       "    source_format:             \\nThe original ECMWF and the derived T85 are i...\n",
       "    source_file:               \\nMSS: /DSS/U82386\n",
       "    source_availability:       \\nThe ERA-40 data are available for non-commer...\n",
       "    netCDF_creation:           \\nClimate Analysis Section                    ...\n",
       "    netCDF_creation_software:  \\nNCAR Command Language (NCL)                 ...\n",
       "    netCDF_creation_date:      \\nThu Mar 31 21:07:32 MST 2005\n",
       "    Conventions:               CF\n",
       "    history:                   Fri Apr  1 11:51:15 2005: ncrcat /era40/ds126....\n",
       "    nco_openmp_thread_number:  1"
      ]
     },
     "execution_count": 22,
     "metadata": {},
     "output_type": "execute_result"
    }
   ],
   "source": [
    "ds.sel(lat=[-88.9277, -87.5387], method='nearest')"
   ]
  },
  {
   "cell_type": "code",
   "execution_count": 23,
   "metadata": {},
   "outputs": [
    {
     "data": {
      "text/plain": [
       "<xarray.Dataset>\n",
       "Dimensions:     (lon: 256, time: 540)\n",
       "Coordinates:\n",
       "  * time        (time) datetime64[ns] 1957-09-01 1957-10-01 1957-11-01 ...\n",
       "    lat         float32 0.700384\n",
       "  * lon         (lon) float32 0.0 1.406 2.812 4.218 5.624 7.03 8.436 9.842 ...\n",
       "Data variables:\n",
       "    gw          float32 0.0244462\n",
       "    date        (time) int32 19570901 19571001 19571101 19571201 19580101 ...\n",
       "    datesec     (time) int32 0 0 0 0 0 0 0 0 0 0 0 0 0 0 0 0 0 0 0 0 0 0 0 0 ...\n",
       "    yyyymmddhh  (time) int32 1957090100 1957100100 1957110100 1957120100 ...\n",
       "    SST         (time, lon) float64 298.0 298.2 298.3 298.4 298.4 298.4 ...\n",
       "Attributes:\n",
       "    title:                     \\nERA40 T85 Surface Analysis: created at NCAR\n",
       "    temporal_span:             \\nThe entire ERA40 archive spans 45 years: Sep...\n",
       "    source_original:           \\nEuropean Center for Medium-Range Weather For...\n",
       "    story:                     \\nThis dataset is a netCDF version of ds126.0 ...\n",
       "    source_NCAR:               \\nData Support Section                        ...\n",
       "    source_format:             \\nThe original ECMWF and the derived T85 are i...\n",
       "    source_file:               \\nMSS: /DSS/U82386\n",
       "    source_availability:       \\nThe ERA-40 data are available for non-commer...\n",
       "    netCDF_creation:           \\nClimate Analysis Section                    ...\n",
       "    netCDF_creation_software:  \\nNCAR Command Language (NCL)                 ...\n",
       "    netCDF_creation_date:      \\nThu Mar 31 21:07:32 MST 2005\n",
       "    Conventions:               CF\n",
       "    history:                   Fri Apr  1 11:51:15 2005: ncrcat /era40/ds126....\n",
       "    nco_openmp_thread_number:  1"
      ]
     },
     "execution_count": 23,
     "metadata": {},
     "output_type": "execute_result"
    }
   ],
   "source": [
    "ds.sel(lat=0.1, method='backfill')"
   ]
  },
  {
   "cell_type": "code",
   "execution_count": 24,
   "metadata": {},
   "outputs": [
    {
     "data": {
      "text/plain": [
       "<xarray.Dataset>\n",
       "Dimensions:     (lat: 2, lon: 256, time: 540)\n",
       "Coordinates:\n",
       "  * lat         (lat) float64 -88.93 -87.54\n",
       "  * time        (time) datetime64[ns] 1957-09-01 1957-10-01 1957-11-01 ...\n",
       "  * lon         (lon) float32 0.0 1.406 2.812 4.218 5.624 7.03 8.436 9.842 ...\n",
       "Data variables:\n",
       "    gw          (lat) float32 0.000449381 0.00104581\n",
       "    date        (time) int32 19570901 19571001 19571101 19571201 19580101 ...\n",
       "    datesec     (time) int32 0 0 0 0 0 0 0 0 0 0 0 0 0 0 0 0 0 0 0 0 0 0 0 0 ...\n",
       "    yyyymmddhh  (time) int32 1957090100 1957100100 1957110100 1957120100 ...\n",
       "    SST         (time, lat, lon) float64 nan nan nan nan nan nan nan nan nan ...\n",
       "Attributes:\n",
       "    title:                     \\nERA40 T85 Surface Analysis: created at NCAR\n",
       "    temporal_span:             \\nThe entire ERA40 archive spans 45 years: Sep...\n",
       "    source_original:           \\nEuropean Center for Medium-Range Weather For...\n",
       "    story:                     \\nThis dataset is a netCDF version of ds126.0 ...\n",
       "    source_NCAR:               \\nData Support Section                        ...\n",
       "    source_format:             \\nThe original ECMWF and the derived T85 are i...\n",
       "    source_file:               \\nMSS: /DSS/U82386\n",
       "    source_availability:       \\nThe ERA-40 data are available for non-commer...\n",
       "    netCDF_creation:           \\nClimate Analysis Section                    ...\n",
       "    netCDF_creation_software:  \\nNCAR Command Language (NCL)                 ...\n",
       "    netCDF_creation_date:      \\nThu Mar 31 21:07:32 MST 2005\n",
       "    Conventions:               CF\n",
       "    history:                   Fri Apr  1 11:51:15 2005: ncrcat /era40/ds126....\n",
       "    nco_openmp_thread_number:  1"
      ]
     },
     "execution_count": 24,
     "metadata": {},
     "output_type": "execute_result"
    }
   ],
   "source": [
    "ds.reindex(lat=[-88.9277, -87.5387], method='pad')"
   ]
  },
  {
   "cell_type": "markdown",
   "metadata": {},
   "source": [
    "Tolerance limits the maximum distance for valid matches with an inexact lookup:"
   ]
  },
  {
   "cell_type": "code",
   "execution_count": 25,
   "metadata": {},
   "outputs": [
    {
     "data": {
      "text/plain": [
       "<xarray.Dataset>\n",
       "Dimensions:     (lat: 2, lon: 256, time: 540)\n",
       "Coordinates:\n",
       "  * lat         (lat) float64 -88.93 -87.54\n",
       "  * time        (time) datetime64[ns] 1957-09-01 1957-10-01 1957-11-01 ...\n",
       "  * lon         (lon) float32 0.0 1.406 2.812 4.218 5.624 7.03 8.436 9.842 ...\n",
       "Data variables:\n",
       "    gw          (lat) float32 0.000449381 0.00104581\n",
       "    date        (time) int32 19570901 19571001 19571101 19571201 19580101 ...\n",
       "    datesec     (time) int32 0 0 0 0 0 0 0 0 0 0 0 0 0 0 0 0 0 0 0 0 0 0 0 0 ...\n",
       "    yyyymmddhh  (time) int32 1957090100 1957100100 1957110100 1957120100 ...\n",
       "    SST         (time, lat, lon) float64 nan nan nan nan nan nan nan nan nan ...\n",
       "Attributes:\n",
       "    title:                     \\nERA40 T85 Surface Analysis: created at NCAR\n",
       "    temporal_span:             \\nThe entire ERA40 archive spans 45 years: Sep...\n",
       "    source_original:           \\nEuropean Center for Medium-Range Weather For...\n",
       "    story:                     \\nThis dataset is a netCDF version of ds126.0 ...\n",
       "    source_NCAR:               \\nData Support Section                        ...\n",
       "    source_format:             \\nThe original ECMWF and the derived T85 are i...\n",
       "    source_file:               \\nMSS: /DSS/U82386\n",
       "    source_availability:       \\nThe ERA-40 data are available for non-commer...\n",
       "    netCDF_creation:           \\nClimate Analysis Section                    ...\n",
       "    netCDF_creation_software:  \\nNCAR Command Language (NCL)                 ...\n",
       "    netCDF_creation_date:      \\nThu Mar 31 21:07:32 MST 2005\n",
       "    Conventions:               CF\n",
       "    history:                   Fri Apr  1 11:51:15 2005: ncrcat /era40/ds126....\n",
       "    nco_openmp_thread_number:  1"
      ]
     },
     "execution_count": 25,
     "metadata": {},
     "output_type": "execute_result"
    }
   ],
   "source": [
    "ds.reindex(lat=[-88.9277, -87.5387], method='nearest', tolerance=0.2)"
   ]
  },
  {
   "cell_type": "markdown",
   "metadata": {},
   "source": [
    "## Masking with ```where```"
   ]
  },
  {
   "cell_type": "markdown",
   "metadata": {},
   "source": [
    "Indexing methods on xarray objects generally return a subset of the original data. \n",
    "However, it is sometimes useful to select an object with the same shape as the original data, \n",
    "but with some elements masked. To do this type of selection in xarray, use ```where()```:"
   ]
  },
  {
   "cell_type": "code",
   "execution_count": 26,
   "metadata": {},
   "outputs": [
    {
     "data": {
      "text/plain": [
       "<xarray.Dataset>\n",
       "Dimensions:     (lat: 128, lon: 256, time: 540)\n",
       "Coordinates:\n",
       "  * time        (time) datetime64[ns] 1957-09-01 1957-10-01 1957-11-01 ...\n",
       "  * lat         (lat) float32 -88.9277 -87.5387 -86.1415 -84.7424 -83.3426 ...\n",
       "  * lon         (lon) float32 0.0 1.406 2.812 4.218 5.624 7.03 8.436 9.842 ...\n",
       "Data variables:\n",
       "    gw          (lat, lon) float32 nan nan nan nan nan nan nan nan nan nan ...\n",
       "    date        (time, lon, lat) float64 nan nan nan nan nan nan nan nan nan ...\n",
       "    datesec     (time, lon, lat) float64 nan nan nan nan nan nan nan nan nan ...\n",
       "    yyyymmddhh  (time, lon, lat) float64 nan nan nan nan nan nan nan nan nan ...\n",
       "    SST         (time, lat, lon) float64 nan nan nan nan nan nan nan nan nan ...\n",
       "Attributes:\n",
       "    title:                     \\nERA40 T85 Surface Analysis: created at NCAR\n",
       "    temporal_span:             \\nThe entire ERA40 archive spans 45 years: Sep...\n",
       "    source_original:           \\nEuropean Center for Medium-Range Weather For...\n",
       "    story:                     \\nThis dataset is a netCDF version of ds126.0 ...\n",
       "    source_NCAR:               \\nData Support Section                        ...\n",
       "    source_format:             \\nThe original ECMWF and the derived T85 are i...\n",
       "    source_file:               \\nMSS: /DSS/U82386\n",
       "    source_availability:       \\nThe ERA-40 data are available for non-commer...\n",
       "    netCDF_creation:           \\nClimate Analysis Section                    ...\n",
       "    netCDF_creation_software:  \\nNCAR Command Language (NCL)                 ...\n",
       "    netCDF_creation_date:      \\nThu Mar 31 21:07:32 MST 2005\n",
       "    Conventions:               CF\n",
       "    history:                   Fri Apr  1 11:51:15 2005: ncrcat /era40/ds126....\n",
       "    nco_openmp_thread_number:  1"
      ]
     },
     "execution_count": 26,
     "metadata": {},
     "output_type": "execute_result"
    }
   ],
   "source": [
    "ds.where((ds.lon + ds.lat > 0.0) & (ds.lon + ds.lat < 5.0))"
   ]
  },
  {
   "cell_type": "markdown",
   "metadata": {},
   "source": [
    "By default ```where``` maintains the original size of the data. For cases where the selected data size is much smaller than the original data, use of the option ```drop=True``` clips coordinate elements that are fully masked:"
   ]
  },
  {
   "cell_type": "code",
   "execution_count": 27,
   "metadata": {},
   "outputs": [
    {
     "data": {
      "text/plain": [
       "<xarray.Dataset>\n",
       "Dimensions:     (lat: 68, lon: 67, time: 540)\n",
       "Coordinates:\n",
       "  * time        (time) datetime64[ns] 1957-09-01 1957-10-01 1957-11-01 ...\n",
       "  * lat         (lat) float32 -88.9277 -87.5387 -86.1415 -84.7424 -83.3426 ...\n",
       "  * lon         (lon) float32 0.0 1.406 2.812 4.218 5.624 7.03 8.436 9.842 ...\n",
       "Data variables:\n",
       "    gw          (lat, lon) float32 nan nan nan nan nan nan nan nan nan nan ...\n",
       "    date        (time, lon, lat) float64 nan nan nan nan nan nan nan nan nan ...\n",
       "    datesec     (time, lon, lat) float64 nan nan nan nan nan nan nan nan nan ...\n",
       "    yyyymmddhh  (time, lon, lat) float64 nan nan nan nan nan nan nan nan nan ...\n",
       "    SST         (time, lat, lon) float64 nan nan nan nan nan nan nan nan nan ...\n",
       "Attributes:\n",
       "    title:                     \\nERA40 T85 Surface Analysis: created at NCAR\n",
       "    temporal_span:             \\nThe entire ERA40 archive spans 45 years: Sep...\n",
       "    source_original:           \\nEuropean Center for Medium-Range Weather For...\n",
       "    story:                     \\nThis dataset is a netCDF version of ds126.0 ...\n",
       "    source_NCAR:               \\nData Support Section                        ...\n",
       "    source_format:             \\nThe original ECMWF and the derived T85 are i...\n",
       "    source_file:               \\nMSS: /DSS/U82386\n",
       "    source_availability:       \\nThe ERA-40 data are available for non-commer...\n",
       "    netCDF_creation:           \\nClimate Analysis Section                    ...\n",
       "    netCDF_creation_software:  \\nNCAR Command Language (NCL)                 ...\n",
       "    netCDF_creation_date:      \\nThu Mar 31 21:07:32 MST 2005\n",
       "    Conventions:               CF\n",
       "    history:                   Fri Apr  1 11:51:15 2005: ncrcat /era40/ds126....\n",
       "    nco_openmp_thread_number:  1"
      ]
     },
     "execution_count": 27,
     "metadata": {},
     "output_type": "execute_result"
    }
   ],
   "source": [
    "ds.where((ds.lon + ds.lat > 0.0) & (ds.lon + ds.lat < 5.0), drop=True)"
   ]
  },
  {
   "cell_type": "markdown",
   "metadata": {
    "collapsed": true
   },
   "source": [
    "## Multi-level indexing"
   ]
  },
  {
   "cell_type": "markdown",
   "metadata": {},
   "source": [
    "Just like pandas, advanced indexing on multi-level indexes is possible with ```loc``` and ```sel```. You can slice a multi-index by providing multiple indexers, i.e., a tuple of slices, labels, list of labels, or any selector allowed by pandas:"
   ]
  },
  {
   "cell_type": "code",
   "execution_count": 28,
   "metadata": {
    "collapsed": true
   },
   "outputs": [],
   "source": [
    "midx = pd.MultiIndex.from_product([list('abc'), [0, 1]], names=('one', 'two'))"
   ]
  },
  {
   "cell_type": "code",
   "execution_count": 29,
   "metadata": {},
   "outputs": [
    {
     "data": {
      "text/plain": [
       "<xarray.DataArray (x: 6, y: 3)>\n",
       "array([[ 0.216008,  0.270145,  0.058944],\n",
       "       [ 0.472134,  0.781544,  0.248329],\n",
       "       [ 0.862006,  0.343766,  0.740999],\n",
       "       [ 0.257334,  0.007409,  0.539816],\n",
       "       [ 0.359773,  0.27757 ,  0.766447],\n",
       "       [ 0.047914,  0.210177,  0.965813]])\n",
       "Coordinates:\n",
       "  * x        (x) MultiIndex\n",
       "  - one      (x) object 'a' 'a' 'b' 'b' 'c' 'c'\n",
       "  - two      (x) int64 0 1 0 1 0 1\n",
       "  * y        (y) int64 0 1 2"
      ]
     },
     "execution_count": 29,
     "metadata": {},
     "output_type": "execute_result"
    }
   ],
   "source": [
    "mda = xr.DataArray(np.random.rand(6, 3), [('x', midx), ('y', range(3))])\n",
    "mda"
   ]
  },
  {
   "cell_type": "code",
   "execution_count": 30,
   "metadata": {},
   "outputs": [
    {
     "data": {
      "text/plain": [
       "<xarray.DataArray (x: 2, y: 3)>\n",
       "array([[ 0.216008,  0.270145,  0.058944],\n",
       "       [ 0.862006,  0.343766,  0.740999]])\n",
       "Coordinates:\n",
       "  * x        (x) MultiIndex\n",
       "  - one      (x) object 'a' 'b'\n",
       "  - two      (x) int64 0 0\n",
       "  * y        (y) int64 0 1 2"
      ]
     },
     "execution_count": 30,
     "metadata": {},
     "output_type": "execute_result"
    }
   ],
   "source": [
    "mda.sel(x=(list('ab'), [0]))"
   ]
  },
  {
   "cell_type": "markdown",
   "metadata": {},
   "source": [
    "- You can also select multiple elements by providing a list of labels or tuples or a slice of tuples."
   ]
  },
  {
   "cell_type": "raw",
   "metadata": {},
   "source": [
    "mda.sel(x=[('a', 0), ('b', 1)])"
   ]
  },
  {
   "cell_type": "markdown",
   "metadata": {},
   "source": [
    "## Orthogonal(outer) vs. vectorized indexing"
   ]
  },
  {
   "cell_type": "code",
   "execution_count": 31,
   "metadata": {
    "scrolled": true
   },
   "outputs": [
    {
     "data": {
      "text/plain": [
       "<xarray.DataArray 'SST' (time: 270, lat: 128, lon: 256)>\n",
       "array([[[        nan,         nan, ...,         nan,         nan],\n",
       "        [        nan,         nan, ...,         nan,         nan],\n",
       "        ..., \n",
       "        [ 271.460205,  271.460205, ...,  271.460205,  271.460205],\n",
       "        [ 271.460205,  271.460205, ...,  271.460205,  271.460205]],\n",
       "\n",
       "       [[        nan,         nan, ...,         nan,         nan],\n",
       "        [        nan,         nan, ...,         nan,         nan],\n",
       "        ..., \n",
       "        [ 271.460693,  271.460693, ...,  271.460693,  271.460693],\n",
       "        [ 271.460693,  271.460693, ...,  271.460693,  271.460693]],\n",
       "\n",
       "       ..., \n",
       "       [[        nan,         nan, ...,         nan,         nan],\n",
       "        [        nan,         nan, ...,         nan,         nan],\n",
       "        ..., \n",
       "        [ 271.460205,  271.460205, ...,  271.460205,  271.460205],\n",
       "        [ 271.460205,  271.460205, ...,  271.460205,  271.460205]],\n",
       "\n",
       "       [[        nan,         nan, ...,         nan,         nan],\n",
       "        [        nan,         nan, ...,         nan,         nan],\n",
       "        ..., \n",
       "        [ 271.460449,  271.460449, ...,  271.460449,  271.460449],\n",
       "        [ 271.460449,  271.460449, ...,  271.460449,  271.460449]]])\n",
       "Coordinates:\n",
       "  * time     (time) datetime64[ns] 1957-09-01 1957-10-01 1957-11-01 ...\n",
       "  * lat      (lat) float32 -88.9277 -87.5387 -86.1415 -84.7424 -83.3426 ...\n",
       "  * lon      (lon) float32 0.0 1.406 2.812 4.218 5.624 7.03 8.436 9.842 ...\n",
       "Attributes:\n",
       "    units:      K\n",
       "    long_name:  Sea surface temperature"
      ]
     },
     "execution_count": 31,
     "metadata": {},
     "output_type": "execute_result"
    }
   ],
   "source": [
    "ds.SST[ds.SST['time.month'] > 6]"
   ]
  },
  {
   "cell_type": "code",
   "execution_count": 32,
   "metadata": {},
   "outputs": [
    {
     "data": {
      "text/plain": [
       "array([          nan,           nan,           nan, ...,  271.46044922,\n",
       "        271.46044922,  271.46044922])"
      ]
     },
     "execution_count": 32,
     "metadata": {},
     "output_type": "execute_result"
    }
   ],
   "source": [
    "ds.SST.values[ds.SST.values != 275.0]"
   ]
  },
  {
   "cell_type": "markdown",
   "metadata": {},
   "source": [
    "## Key Points\n",
    "- xarray’s labeled dimensions free the user from having to track positional ordering of dimensions when accessing data, creating a more simplified workflow"
   ]
  }
 ],
 "metadata": {
  "kernelspec": {
   "display_name": "Python 3",
   "language": "python",
   "name": "python3"
  },
  "language_info": {
   "codemirror_mode": {
    "name": "ipython",
    "version": 3
   },
   "file_extension": ".py",
   "mimetype": "text/x-python",
   "name": "python",
   "nbconvert_exporter": "python",
   "pygments_lexer": "ipython3",
   "version": "3.6.2"
  },
  "toc": {
   "colors": {
    "hover_highlight": "#DAA520",
    "navigate_num": "#000000",
    "navigate_text": "#333333",
    "running_highlight": "#FF0000",
    "selected_highlight": "#FFD700",
    "sidebar_border": "#EEEEEE",
    "wrapper_background": "#FFFFFF"
   },
   "moveMenuLeft": true,
   "nav_menu": {
    "height": "12px",
    "width": "252px"
   },
   "navigate_menu": true,
   "number_sections": false,
   "sideBar": true,
   "threshold": 4,
   "toc_cell": true,
   "toc_section_display": "block",
   "toc_window_display": false,
   "widenNotebook": false
  }
 },
 "nbformat": 4,
 "nbformat_minor": 2
}
